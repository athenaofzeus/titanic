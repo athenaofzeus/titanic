{
 "cells": [
  {
   "cell_type": "markdown",
   "id": "4913c3c7",
   "metadata": {
    "papermill": {
     "duration": 0.012071,
     "end_time": "2025-03-19T20:06:42.574086",
     "exception": false,
     "start_time": "2025-03-19T20:06:42.562015",
     "status": "completed"
    },
    "tags": []
   },
   "source": [
    "## Сначала подгружаем данные, как того требует инструкция"
   ]
  },
  {
   "cell_type": "code",
   "execution_count": 1,
   "id": "cf2ee5e8",
   "metadata": {
    "_cell_guid": "b1076dfc-b9ad-4769-8c92-a6c4dae69d19",
    "_uuid": "8f2839f25d086af736a60e9eeb907d3b93b6e0e5",
    "execution": {
     "iopub.execute_input": "2025-03-19T20:06:42.598152Z",
     "iopub.status.busy": "2025-03-19T20:06:42.597793Z",
     "iopub.status.idle": "2025-03-19T20:06:43.606014Z",
     "shell.execute_reply": "2025-03-19T20:06:43.604721Z"
    },
    "papermill": {
     "duration": 1.022203,
     "end_time": "2025-03-19T20:06:43.607731",
     "exception": false,
     "start_time": "2025-03-19T20:06:42.585528",
     "status": "completed"
    },
    "tags": []
   },
   "outputs": [
    {
     "name": "stdout",
     "output_type": "stream",
     "text": [
      "/kaggle/input/titanic/train.csv\n",
      "/kaggle/input/titanic/test.csv\n",
      "/kaggle/input/titanic/gender_submission.csv\n"
     ]
    }
   ],
   "source": [
    "import numpy as np # linear algebra\n",
    "import pandas as pd # data processing, CSV file I/O (e.g. pd.read_csv)\n",
    "\n",
    "import os\n",
    "for dirname, _, filenames in os.walk('/kaggle/input'):\n",
    "    for filename in filenames:\n",
    "        print(os.path.join(dirname, filename))\n"
   ]
  },
  {
   "cell_type": "code",
   "execution_count": 2,
   "id": "81a7f53c",
   "metadata": {
    "execution": {
     "iopub.execute_input": "2025-03-19T20:06:43.633402Z",
     "iopub.status.busy": "2025-03-19T20:06:43.632901Z",
     "iopub.status.idle": "2025-03-19T20:06:43.691061Z",
     "shell.execute_reply": "2025-03-19T20:06:43.689994Z"
    },
    "papermill": {
     "duration": 0.072392,
     "end_time": "2025-03-19T20:06:43.692802",
     "exception": false,
     "start_time": "2025-03-19T20:06:43.620410",
     "status": "completed"
    },
    "tags": []
   },
   "outputs": [
    {
     "name": "stderr",
     "output_type": "stream",
     "text": [
      "/usr/local/lib/python3.10/dist-packages/pandas/io/formats/format.py:1458: RuntimeWarning: invalid value encountered in greater\n",
      "  has_large_values = (abs_vals > 1e6).any()\n",
      "/usr/local/lib/python3.10/dist-packages/pandas/io/formats/format.py:1459: RuntimeWarning: invalid value encountered in less\n",
      "  has_small_values = ((abs_vals < 10 ** (-self.digits)) & (abs_vals > 0)).any()\n",
      "/usr/local/lib/python3.10/dist-packages/pandas/io/formats/format.py:1459: RuntimeWarning: invalid value encountered in greater\n",
      "  has_small_values = ((abs_vals < 10 ** (-self.digits)) & (abs_vals > 0)).any()\n"
     ]
    },
    {
     "data": {
      "text/html": [
       "<div>\n",
       "<style scoped>\n",
       "    .dataframe tbody tr th:only-of-type {\n",
       "        vertical-align: middle;\n",
       "    }\n",
       "\n",
       "    .dataframe tbody tr th {\n",
       "        vertical-align: top;\n",
       "    }\n",
       "\n",
       "    .dataframe thead th {\n",
       "        text-align: right;\n",
       "    }\n",
       "</style>\n",
       "<table border=\"1\" class=\"dataframe\">\n",
       "  <thead>\n",
       "    <tr style=\"text-align: right;\">\n",
       "      <th></th>\n",
       "      <th>PassengerId</th>\n",
       "      <th>Survived</th>\n",
       "      <th>Pclass</th>\n",
       "      <th>Name</th>\n",
       "      <th>Sex</th>\n",
       "      <th>Age</th>\n",
       "      <th>SibSp</th>\n",
       "      <th>Parch</th>\n",
       "      <th>Ticket</th>\n",
       "      <th>Fare</th>\n",
       "      <th>Cabin</th>\n",
       "      <th>Embarked</th>\n",
       "    </tr>\n",
       "  </thead>\n",
       "  <tbody>\n",
       "    <tr>\n",
       "      <th>0</th>\n",
       "      <td>1</td>\n",
       "      <td>0</td>\n",
       "      <td>3</td>\n",
       "      <td>Braund, Mr. Owen Harris</td>\n",
       "      <td>male</td>\n",
       "      <td>22.0</td>\n",
       "      <td>1</td>\n",
       "      <td>0</td>\n",
       "      <td>A/5 21171</td>\n",
       "      <td>7.2500</td>\n",
       "      <td>NaN</td>\n",
       "      <td>S</td>\n",
       "    </tr>\n",
       "    <tr>\n",
       "      <th>1</th>\n",
       "      <td>2</td>\n",
       "      <td>1</td>\n",
       "      <td>1</td>\n",
       "      <td>Cumings, Mrs. John Bradley (Florence Briggs Th...</td>\n",
       "      <td>female</td>\n",
       "      <td>38.0</td>\n",
       "      <td>1</td>\n",
       "      <td>0</td>\n",
       "      <td>PC 17599</td>\n",
       "      <td>71.2833</td>\n",
       "      <td>C85</td>\n",
       "      <td>C</td>\n",
       "    </tr>\n",
       "    <tr>\n",
       "      <th>2</th>\n",
       "      <td>3</td>\n",
       "      <td>1</td>\n",
       "      <td>3</td>\n",
       "      <td>Heikkinen, Miss. Laina</td>\n",
       "      <td>female</td>\n",
       "      <td>26.0</td>\n",
       "      <td>0</td>\n",
       "      <td>0</td>\n",
       "      <td>STON/O2. 3101282</td>\n",
       "      <td>7.9250</td>\n",
       "      <td>NaN</td>\n",
       "      <td>S</td>\n",
       "    </tr>\n",
       "    <tr>\n",
       "      <th>3</th>\n",
       "      <td>4</td>\n",
       "      <td>1</td>\n",
       "      <td>1</td>\n",
       "      <td>Futrelle, Mrs. Jacques Heath (Lily May Peel)</td>\n",
       "      <td>female</td>\n",
       "      <td>35.0</td>\n",
       "      <td>1</td>\n",
       "      <td>0</td>\n",
       "      <td>113803</td>\n",
       "      <td>53.1000</td>\n",
       "      <td>C123</td>\n",
       "      <td>S</td>\n",
       "    </tr>\n",
       "    <tr>\n",
       "      <th>4</th>\n",
       "      <td>5</td>\n",
       "      <td>0</td>\n",
       "      <td>3</td>\n",
       "      <td>Allen, Mr. William Henry</td>\n",
       "      <td>male</td>\n",
       "      <td>35.0</td>\n",
       "      <td>0</td>\n",
       "      <td>0</td>\n",
       "      <td>373450</td>\n",
       "      <td>8.0500</td>\n",
       "      <td>NaN</td>\n",
       "      <td>S</td>\n",
       "    </tr>\n",
       "    <tr>\n",
       "      <th>...</th>\n",
       "      <td>...</td>\n",
       "      <td>...</td>\n",
       "      <td>...</td>\n",
       "      <td>...</td>\n",
       "      <td>...</td>\n",
       "      <td>...</td>\n",
       "      <td>...</td>\n",
       "      <td>...</td>\n",
       "      <td>...</td>\n",
       "      <td>...</td>\n",
       "      <td>...</td>\n",
       "      <td>...</td>\n",
       "    </tr>\n",
       "    <tr>\n",
       "      <th>886</th>\n",
       "      <td>887</td>\n",
       "      <td>0</td>\n",
       "      <td>2</td>\n",
       "      <td>Montvila, Rev. Juozas</td>\n",
       "      <td>male</td>\n",
       "      <td>27.0</td>\n",
       "      <td>0</td>\n",
       "      <td>0</td>\n",
       "      <td>211536</td>\n",
       "      <td>13.0000</td>\n",
       "      <td>NaN</td>\n",
       "      <td>S</td>\n",
       "    </tr>\n",
       "    <tr>\n",
       "      <th>887</th>\n",
       "      <td>888</td>\n",
       "      <td>1</td>\n",
       "      <td>1</td>\n",
       "      <td>Graham, Miss. Margaret Edith</td>\n",
       "      <td>female</td>\n",
       "      <td>19.0</td>\n",
       "      <td>0</td>\n",
       "      <td>0</td>\n",
       "      <td>112053</td>\n",
       "      <td>30.0000</td>\n",
       "      <td>B42</td>\n",
       "      <td>S</td>\n",
       "    </tr>\n",
       "    <tr>\n",
       "      <th>888</th>\n",
       "      <td>889</td>\n",
       "      <td>0</td>\n",
       "      <td>3</td>\n",
       "      <td>Johnston, Miss. Catherine Helen \"Carrie\"</td>\n",
       "      <td>female</td>\n",
       "      <td>NaN</td>\n",
       "      <td>1</td>\n",
       "      <td>2</td>\n",
       "      <td>W./C. 6607</td>\n",
       "      <td>23.4500</td>\n",
       "      <td>NaN</td>\n",
       "      <td>S</td>\n",
       "    </tr>\n",
       "    <tr>\n",
       "      <th>889</th>\n",
       "      <td>890</td>\n",
       "      <td>1</td>\n",
       "      <td>1</td>\n",
       "      <td>Behr, Mr. Karl Howell</td>\n",
       "      <td>male</td>\n",
       "      <td>26.0</td>\n",
       "      <td>0</td>\n",
       "      <td>0</td>\n",
       "      <td>111369</td>\n",
       "      <td>30.0000</td>\n",
       "      <td>C148</td>\n",
       "      <td>C</td>\n",
       "    </tr>\n",
       "    <tr>\n",
       "      <th>890</th>\n",
       "      <td>891</td>\n",
       "      <td>0</td>\n",
       "      <td>3</td>\n",
       "      <td>Dooley, Mr. Patrick</td>\n",
       "      <td>male</td>\n",
       "      <td>32.0</td>\n",
       "      <td>0</td>\n",
       "      <td>0</td>\n",
       "      <td>370376</td>\n",
       "      <td>7.7500</td>\n",
       "      <td>NaN</td>\n",
       "      <td>Q</td>\n",
       "    </tr>\n",
       "  </tbody>\n",
       "</table>\n",
       "<p>891 rows × 12 columns</p>\n",
       "</div>"
      ],
      "text/plain": [
       "     PassengerId  Survived  Pclass  \\\n",
       "0              1         0       3   \n",
       "1              2         1       1   \n",
       "2              3         1       3   \n",
       "3              4         1       1   \n",
       "4              5         0       3   \n",
       "..           ...       ...     ...   \n",
       "886          887         0       2   \n",
       "887          888         1       1   \n",
       "888          889         0       3   \n",
       "889          890         1       1   \n",
       "890          891         0       3   \n",
       "\n",
       "                                                  Name     Sex   Age  SibSp  \\\n",
       "0                              Braund, Mr. Owen Harris    male  22.0      1   \n",
       "1    Cumings, Mrs. John Bradley (Florence Briggs Th...  female  38.0      1   \n",
       "2                               Heikkinen, Miss. Laina  female  26.0      0   \n",
       "3         Futrelle, Mrs. Jacques Heath (Lily May Peel)  female  35.0      1   \n",
       "4                             Allen, Mr. William Henry    male  35.0      0   \n",
       "..                                                 ...     ...   ...    ...   \n",
       "886                              Montvila, Rev. Juozas    male  27.0      0   \n",
       "887                       Graham, Miss. Margaret Edith  female  19.0      0   \n",
       "888           Johnston, Miss. Catherine Helen \"Carrie\"  female   NaN      1   \n",
       "889                              Behr, Mr. Karl Howell    male  26.0      0   \n",
       "890                                Dooley, Mr. Patrick    male  32.0      0   \n",
       "\n",
       "     Parch            Ticket     Fare Cabin Embarked  \n",
       "0        0         A/5 21171   7.2500   NaN        S  \n",
       "1        0          PC 17599  71.2833   C85        C  \n",
       "2        0  STON/O2. 3101282   7.9250   NaN        S  \n",
       "3        0            113803  53.1000  C123        S  \n",
       "4        0            373450   8.0500   NaN        S  \n",
       "..     ...               ...      ...   ...      ...  \n",
       "886      0            211536  13.0000   NaN        S  \n",
       "887      0            112053  30.0000   B42        S  \n",
       "888      2        W./C. 6607  23.4500   NaN        S  \n",
       "889      0            111369  30.0000  C148        C  \n",
       "890      0            370376   7.7500   NaN        Q  \n",
       "\n",
       "[891 rows x 12 columns]"
      ]
     },
     "execution_count": 2,
     "metadata": {},
     "output_type": "execute_result"
    }
   ],
   "source": [
    "# Далее сохраняем трейн в переменную\n",
    "train_data = pd.read_csv(\"/kaggle/input/titanic/train.csv\")\n",
    "train_data"
   ]
  },
  {
   "cell_type": "code",
   "execution_count": 3,
   "id": "25f9643d",
   "metadata": {
    "execution": {
     "iopub.execute_input": "2025-03-19T20:06:43.718080Z",
     "iopub.status.busy": "2025-03-19T20:06:43.717621Z",
     "iopub.status.idle": "2025-03-19T20:06:43.736443Z",
     "shell.execute_reply": "2025-03-19T20:06:43.735201Z"
    },
    "papermill": {
     "duration": 0.033128,
     "end_time": "2025-03-19T20:06:43.738004",
     "exception": false,
     "start_time": "2025-03-19T20:06:43.704876",
     "status": "completed"
    },
    "tags": []
   },
   "outputs": [
    {
     "name": "stderr",
     "output_type": "stream",
     "text": [
      "/usr/local/lib/python3.10/dist-packages/pandas/io/formats/format.py:1458: RuntimeWarning: invalid value encountered in greater\n",
      "  has_large_values = (abs_vals > 1e6).any()\n",
      "/usr/local/lib/python3.10/dist-packages/pandas/io/formats/format.py:1459: RuntimeWarning: invalid value encountered in less\n",
      "  has_small_values = ((abs_vals < 10 ** (-self.digits)) & (abs_vals > 0)).any()\n",
      "/usr/local/lib/python3.10/dist-packages/pandas/io/formats/format.py:1459: RuntimeWarning: invalid value encountered in greater\n",
      "  has_small_values = ((abs_vals < 10 ** (-self.digits)) & (abs_vals > 0)).any()\n"
     ]
    },
    {
     "data": {
      "text/html": [
       "<div>\n",
       "<style scoped>\n",
       "    .dataframe tbody tr th:only-of-type {\n",
       "        vertical-align: middle;\n",
       "    }\n",
       "\n",
       "    .dataframe tbody tr th {\n",
       "        vertical-align: top;\n",
       "    }\n",
       "\n",
       "    .dataframe thead th {\n",
       "        text-align: right;\n",
       "    }\n",
       "</style>\n",
       "<table border=\"1\" class=\"dataframe\">\n",
       "  <thead>\n",
       "    <tr style=\"text-align: right;\">\n",
       "      <th></th>\n",
       "      <th>Survived</th>\n",
       "      <th>Pclass</th>\n",
       "      <th>Sex</th>\n",
       "      <th>Age</th>\n",
       "      <th>SibSp</th>\n",
       "      <th>Parch</th>\n",
       "      <th>Fare</th>\n",
       "      <th>Cabin</th>\n",
       "      <th>Embarked</th>\n",
       "    </tr>\n",
       "  </thead>\n",
       "  <tbody>\n",
       "    <tr>\n",
       "      <th>0</th>\n",
       "      <td>0</td>\n",
       "      <td>3</td>\n",
       "      <td>male</td>\n",
       "      <td>22.0</td>\n",
       "      <td>1</td>\n",
       "      <td>0</td>\n",
       "      <td>7.2500</td>\n",
       "      <td>NaN</td>\n",
       "      <td>S</td>\n",
       "    </tr>\n",
       "    <tr>\n",
       "      <th>1</th>\n",
       "      <td>1</td>\n",
       "      <td>1</td>\n",
       "      <td>female</td>\n",
       "      <td>38.0</td>\n",
       "      <td>1</td>\n",
       "      <td>0</td>\n",
       "      <td>71.2833</td>\n",
       "      <td>C85</td>\n",
       "      <td>C</td>\n",
       "    </tr>\n",
       "    <tr>\n",
       "      <th>2</th>\n",
       "      <td>1</td>\n",
       "      <td>3</td>\n",
       "      <td>female</td>\n",
       "      <td>26.0</td>\n",
       "      <td>0</td>\n",
       "      <td>0</td>\n",
       "      <td>7.9250</td>\n",
       "      <td>NaN</td>\n",
       "      <td>S</td>\n",
       "    </tr>\n",
       "    <tr>\n",
       "      <th>3</th>\n",
       "      <td>1</td>\n",
       "      <td>1</td>\n",
       "      <td>female</td>\n",
       "      <td>35.0</td>\n",
       "      <td>1</td>\n",
       "      <td>0</td>\n",
       "      <td>53.1000</td>\n",
       "      <td>C123</td>\n",
       "      <td>S</td>\n",
       "    </tr>\n",
       "    <tr>\n",
       "      <th>4</th>\n",
       "      <td>0</td>\n",
       "      <td>3</td>\n",
       "      <td>male</td>\n",
       "      <td>35.0</td>\n",
       "      <td>0</td>\n",
       "      <td>0</td>\n",
       "      <td>8.0500</td>\n",
       "      <td>NaN</td>\n",
       "      <td>S</td>\n",
       "    </tr>\n",
       "    <tr>\n",
       "      <th>...</th>\n",
       "      <td>...</td>\n",
       "      <td>...</td>\n",
       "      <td>...</td>\n",
       "      <td>...</td>\n",
       "      <td>...</td>\n",
       "      <td>...</td>\n",
       "      <td>...</td>\n",
       "      <td>...</td>\n",
       "      <td>...</td>\n",
       "    </tr>\n",
       "    <tr>\n",
       "      <th>886</th>\n",
       "      <td>0</td>\n",
       "      <td>2</td>\n",
       "      <td>male</td>\n",
       "      <td>27.0</td>\n",
       "      <td>0</td>\n",
       "      <td>0</td>\n",
       "      <td>13.0000</td>\n",
       "      <td>NaN</td>\n",
       "      <td>S</td>\n",
       "    </tr>\n",
       "    <tr>\n",
       "      <th>887</th>\n",
       "      <td>1</td>\n",
       "      <td>1</td>\n",
       "      <td>female</td>\n",
       "      <td>19.0</td>\n",
       "      <td>0</td>\n",
       "      <td>0</td>\n",
       "      <td>30.0000</td>\n",
       "      <td>B42</td>\n",
       "      <td>S</td>\n",
       "    </tr>\n",
       "    <tr>\n",
       "      <th>888</th>\n",
       "      <td>0</td>\n",
       "      <td>3</td>\n",
       "      <td>female</td>\n",
       "      <td>NaN</td>\n",
       "      <td>1</td>\n",
       "      <td>2</td>\n",
       "      <td>23.4500</td>\n",
       "      <td>NaN</td>\n",
       "      <td>S</td>\n",
       "    </tr>\n",
       "    <tr>\n",
       "      <th>889</th>\n",
       "      <td>1</td>\n",
       "      <td>1</td>\n",
       "      <td>male</td>\n",
       "      <td>26.0</td>\n",
       "      <td>0</td>\n",
       "      <td>0</td>\n",
       "      <td>30.0000</td>\n",
       "      <td>C148</td>\n",
       "      <td>C</td>\n",
       "    </tr>\n",
       "    <tr>\n",
       "      <th>890</th>\n",
       "      <td>0</td>\n",
       "      <td>3</td>\n",
       "      <td>male</td>\n",
       "      <td>32.0</td>\n",
       "      <td>0</td>\n",
       "      <td>0</td>\n",
       "      <td>7.7500</td>\n",
       "      <td>NaN</td>\n",
       "      <td>Q</td>\n",
       "    </tr>\n",
       "  </tbody>\n",
       "</table>\n",
       "<p>891 rows × 9 columns</p>\n",
       "</div>"
      ],
      "text/plain": [
       "     Survived  Pclass     Sex   Age  SibSp  Parch     Fare Cabin Embarked\n",
       "0           0       3    male  22.0      1      0   7.2500   NaN        S\n",
       "1           1       1  female  38.0      1      0  71.2833   C85        C\n",
       "2           1       3  female  26.0      0      0   7.9250   NaN        S\n",
       "3           1       1  female  35.0      1      0  53.1000  C123        S\n",
       "4           0       3    male  35.0      0      0   8.0500   NaN        S\n",
       "..        ...     ...     ...   ...    ...    ...      ...   ...      ...\n",
       "886         0       2    male  27.0      0      0  13.0000   NaN        S\n",
       "887         1       1  female  19.0      0      0  30.0000   B42        S\n",
       "888         0       3  female   NaN      1      2  23.4500   NaN        S\n",
       "889         1       1    male  26.0      0      0  30.0000  C148        C\n",
       "890         0       3    male  32.0      0      0   7.7500   NaN        Q\n",
       "\n",
       "[891 rows x 9 columns]"
      ]
     },
     "execution_count": 3,
     "metadata": {},
     "output_type": "execute_result"
    }
   ],
   "source": [
    "# Сразу уберем несколько неинформативных столбцов, например, имя и номер билета\n",
    "train_data = train_data.drop(['Name', 'Ticket', 'PassengerId'], axis=1)\n",
    "train_data"
   ]
  },
  {
   "cell_type": "code",
   "execution_count": 4,
   "id": "f8587092",
   "metadata": {
    "execution": {
     "iopub.execute_input": "2025-03-19T20:06:43.763794Z",
     "iopub.status.busy": "2025-03-19T20:06:43.763403Z",
     "iopub.status.idle": "2025-03-19T20:06:43.773510Z",
     "shell.execute_reply": "2025-03-19T20:06:43.772342Z"
    },
    "papermill": {
     "duration": 0.024979,
     "end_time": "2025-03-19T20:06:43.775365",
     "exception": false,
     "start_time": "2025-03-19T20:06:43.750386",
     "status": "completed"
    },
    "tags": []
   },
   "outputs": [
    {
     "data": {
      "text/plain": [
       "Survived      0\n",
       "Pclass        0\n",
       "Sex           0\n",
       "Age         177\n",
       "SibSp         0\n",
       "Parch         0\n",
       "Fare          0\n",
       "Cabin       687\n",
       "Embarked      2\n",
       "dtype: int64"
      ]
     },
     "execution_count": 4,
     "metadata": {},
     "output_type": "execute_result"
    }
   ],
   "source": [
    "# Посмотрим, сколько пропущенных данных\n",
    "train_data.isna().sum()"
   ]
  },
  {
   "cell_type": "code",
   "execution_count": 5,
   "id": "64992511",
   "metadata": {
    "execution": {
     "iopub.execute_input": "2025-03-19T20:06:43.802039Z",
     "iopub.status.busy": "2025-03-19T20:06:43.801569Z",
     "iopub.status.idle": "2025-03-19T20:06:43.814246Z",
     "shell.execute_reply": "2025-03-19T20:06:43.813166Z"
    },
    "papermill": {
     "duration": 0.027741,
     "end_time": "2025-03-19T20:06:43.815991",
     "exception": false,
     "start_time": "2025-03-19T20:06:43.788250",
     "status": "completed"
    },
    "tags": []
   },
   "outputs": [],
   "source": [
    "# Embarked заполним модой, так как их всего 2\n",
    "# train_data[['Embarked']] = train_data[['Embarked']]\n",
    "top_value = train_data['Embarked'].describe().top\n",
    "train_data[['Embarked']] = train_data[['Embarked']].fillna(top_value)"
   ]
  },
  {
   "cell_type": "code",
   "execution_count": 6,
   "id": "688279c5",
   "metadata": {
    "execution": {
     "iopub.execute_input": "2025-03-19T20:06:43.842957Z",
     "iopub.status.busy": "2025-03-19T20:06:43.842568Z",
     "iopub.status.idle": "2025-03-19T20:06:43.857903Z",
     "shell.execute_reply": "2025-03-19T20:06:43.856690Z"
    },
    "papermill": {
     "duration": 0.031078,
     "end_time": "2025-03-19T20:06:43.859636",
     "exception": false,
     "start_time": "2025-03-19T20:06:43.828558",
     "status": "completed"
    },
    "tags": []
   },
   "outputs": [
    {
     "name": "stderr",
     "output_type": "stream",
     "text": [
      "/usr/local/lib/python3.10/dist-packages/pandas/io/formats/format.py:1458: RuntimeWarning: invalid value encountered in greater\n",
      "  has_large_values = (abs_vals > 1e6).any()\n",
      "/usr/local/lib/python3.10/dist-packages/pandas/io/formats/format.py:1459: RuntimeWarning: invalid value encountered in less\n",
      "  has_small_values = ((abs_vals < 10 ** (-self.digits)) & (abs_vals > 0)).any()\n",
      "/usr/local/lib/python3.10/dist-packages/pandas/io/formats/format.py:1459: RuntimeWarning: invalid value encountered in greater\n",
      "  has_small_values = ((abs_vals < 10 ** (-self.digits)) & (abs_vals > 0)).any()\n"
     ]
    },
    {
     "data": {
      "text/html": [
       "<div>\n",
       "<style scoped>\n",
       "    .dataframe tbody tr th:only-of-type {\n",
       "        vertical-align: middle;\n",
       "    }\n",
       "\n",
       "    .dataframe tbody tr th {\n",
       "        vertical-align: top;\n",
       "    }\n",
       "\n",
       "    .dataframe thead th {\n",
       "        text-align: right;\n",
       "    }\n",
       "</style>\n",
       "<table border=\"1\" class=\"dataframe\">\n",
       "  <thead>\n",
       "    <tr style=\"text-align: right;\">\n",
       "      <th></th>\n",
       "      <th>Survived</th>\n",
       "      <th>Pclass</th>\n",
       "      <th>Sex</th>\n",
       "      <th>Age</th>\n",
       "      <th>SibSp</th>\n",
       "      <th>Parch</th>\n",
       "      <th>Fare</th>\n",
       "      <th>Embarked</th>\n",
       "    </tr>\n",
       "  </thead>\n",
       "  <tbody>\n",
       "    <tr>\n",
       "      <th>0</th>\n",
       "      <td>0</td>\n",
       "      <td>3</td>\n",
       "      <td>male</td>\n",
       "      <td>22.0</td>\n",
       "      <td>1</td>\n",
       "      <td>0</td>\n",
       "      <td>7.2500</td>\n",
       "      <td>S</td>\n",
       "    </tr>\n",
       "    <tr>\n",
       "      <th>1</th>\n",
       "      <td>1</td>\n",
       "      <td>1</td>\n",
       "      <td>female</td>\n",
       "      <td>38.0</td>\n",
       "      <td>1</td>\n",
       "      <td>0</td>\n",
       "      <td>71.2833</td>\n",
       "      <td>C</td>\n",
       "    </tr>\n",
       "    <tr>\n",
       "      <th>2</th>\n",
       "      <td>1</td>\n",
       "      <td>3</td>\n",
       "      <td>female</td>\n",
       "      <td>26.0</td>\n",
       "      <td>0</td>\n",
       "      <td>0</td>\n",
       "      <td>7.9250</td>\n",
       "      <td>S</td>\n",
       "    </tr>\n",
       "    <tr>\n",
       "      <th>3</th>\n",
       "      <td>1</td>\n",
       "      <td>1</td>\n",
       "      <td>female</td>\n",
       "      <td>35.0</td>\n",
       "      <td>1</td>\n",
       "      <td>0</td>\n",
       "      <td>53.1000</td>\n",
       "      <td>S</td>\n",
       "    </tr>\n",
       "    <tr>\n",
       "      <th>4</th>\n",
       "      <td>0</td>\n",
       "      <td>3</td>\n",
       "      <td>male</td>\n",
       "      <td>35.0</td>\n",
       "      <td>0</td>\n",
       "      <td>0</td>\n",
       "      <td>8.0500</td>\n",
       "      <td>S</td>\n",
       "    </tr>\n",
       "    <tr>\n",
       "      <th>...</th>\n",
       "      <td>...</td>\n",
       "      <td>...</td>\n",
       "      <td>...</td>\n",
       "      <td>...</td>\n",
       "      <td>...</td>\n",
       "      <td>...</td>\n",
       "      <td>...</td>\n",
       "      <td>...</td>\n",
       "    </tr>\n",
       "    <tr>\n",
       "      <th>886</th>\n",
       "      <td>0</td>\n",
       "      <td>2</td>\n",
       "      <td>male</td>\n",
       "      <td>27.0</td>\n",
       "      <td>0</td>\n",
       "      <td>0</td>\n",
       "      <td>13.0000</td>\n",
       "      <td>S</td>\n",
       "    </tr>\n",
       "    <tr>\n",
       "      <th>887</th>\n",
       "      <td>1</td>\n",
       "      <td>1</td>\n",
       "      <td>female</td>\n",
       "      <td>19.0</td>\n",
       "      <td>0</td>\n",
       "      <td>0</td>\n",
       "      <td>30.0000</td>\n",
       "      <td>S</td>\n",
       "    </tr>\n",
       "    <tr>\n",
       "      <th>888</th>\n",
       "      <td>0</td>\n",
       "      <td>3</td>\n",
       "      <td>female</td>\n",
       "      <td>NaN</td>\n",
       "      <td>1</td>\n",
       "      <td>2</td>\n",
       "      <td>23.4500</td>\n",
       "      <td>S</td>\n",
       "    </tr>\n",
       "    <tr>\n",
       "      <th>889</th>\n",
       "      <td>1</td>\n",
       "      <td>1</td>\n",
       "      <td>male</td>\n",
       "      <td>26.0</td>\n",
       "      <td>0</td>\n",
       "      <td>0</td>\n",
       "      <td>30.0000</td>\n",
       "      <td>C</td>\n",
       "    </tr>\n",
       "    <tr>\n",
       "      <th>890</th>\n",
       "      <td>0</td>\n",
       "      <td>3</td>\n",
       "      <td>male</td>\n",
       "      <td>32.0</td>\n",
       "      <td>0</td>\n",
       "      <td>0</td>\n",
       "      <td>7.7500</td>\n",
       "      <td>Q</td>\n",
       "    </tr>\n",
       "  </tbody>\n",
       "</table>\n",
       "<p>891 rows × 8 columns</p>\n",
       "</div>"
      ],
      "text/plain": [
       "     Survived  Pclass     Sex   Age  SibSp  Parch     Fare Embarked\n",
       "0           0       3    male  22.0      1      0   7.2500        S\n",
       "1           1       1  female  38.0      1      0  71.2833        C\n",
       "2           1       3  female  26.0      0      0   7.9250        S\n",
       "3           1       1  female  35.0      1      0  53.1000        S\n",
       "4           0       3    male  35.0      0      0   8.0500        S\n",
       "..        ...     ...     ...   ...    ...    ...      ...      ...\n",
       "886         0       2    male  27.0      0      0  13.0000        S\n",
       "887         1       1  female  19.0      0      0  30.0000        S\n",
       "888         0       3  female   NaN      1      2  23.4500        S\n",
       "889         1       1    male  26.0      0      0  30.0000        C\n",
       "890         0       3    male  32.0      0      0   7.7500        Q\n",
       "\n",
       "[891 rows x 8 columns]"
      ]
     },
     "execution_count": 6,
     "metadata": {},
     "output_type": "execute_result"
    }
   ],
   "source": [
    "# 80% данных Cabin пропущено, поэтому этот столбец так же можно опустить\n",
    "train_data = train_data.drop(['Cabin'], axis=1)\n",
    "train_data"
   ]
  },
  {
   "cell_type": "markdown",
   "id": "bcaf85c4",
   "metadata": {
    "papermill": {
     "duration": 0.012283,
     "end_time": "2025-03-19T20:06:43.884615",
     "exception": false,
     "start_time": "2025-03-19T20:06:43.872332",
     "status": "completed"
    },
    "tags": []
   },
   "source": [
    "## незаполненные значения остались в поле возраст и вот что можно сделать"
   ]
  },
  {
   "cell_type": "code",
   "execution_count": 7,
   "id": "de531ff5",
   "metadata": {
    "execution": {
     "iopub.execute_input": "2025-03-19T20:06:43.911034Z",
     "iopub.status.busy": "2025-03-19T20:06:43.910638Z",
     "iopub.status.idle": "2025-03-19T20:06:43.914552Z",
     "shell.execute_reply": "2025-03-19T20:06:43.913582Z"
    },
    "papermill": {
     "duration": 0.019197,
     "end_time": "2025-03-19T20:06:43.916306",
     "exception": false,
     "start_time": "2025-03-19T20:06:43.897109",
     "status": "completed"
    },
    "tags": []
   },
   "outputs": [],
   "source": [
    "# Есть 3 варианта действий:\n",
    "#     1. Выбросить строки с пропущенными значениями\n",
    "#     2. Заполнить средним значением или модой, например\n",
    "#     3. Интерполяция:\n",
    "        # а. линейная\n",
    "        # б. полиномиальная"
   ]
  },
  {
   "cell_type": "markdown",
   "id": "605ce384",
   "metadata": {
    "papermill": {
     "duration": 0.012391,
     "end_time": "2025-03-19T20:06:43.941407",
     "exception": false,
     "start_time": "2025-03-19T20:06:43.929016",
     "status": "completed"
    },
    "tags": []
   },
   "source": [
    "### 1. Отбросим эти строки"
   ]
  },
  {
   "cell_type": "code",
   "execution_count": 8,
   "id": "2a1ff3bb",
   "metadata": {
    "execution": {
     "iopub.execute_input": "2025-03-19T20:06:43.967616Z",
     "iopub.status.busy": "2025-03-19T20:06:43.967292Z",
     "iopub.status.idle": "2025-03-19T20:06:43.981735Z",
     "shell.execute_reply": "2025-03-19T20:06:43.980879Z"
    },
    "papermill": {
     "duration": 0.02936,
     "end_time": "2025-03-19T20:06:43.983344",
     "exception": false,
     "start_time": "2025-03-19T20:06:43.953984",
     "status": "completed"
    },
    "tags": []
   },
   "outputs": [
    {
     "data": {
      "text/html": [
       "<div>\n",
       "<style scoped>\n",
       "    .dataframe tbody tr th:only-of-type {\n",
       "        vertical-align: middle;\n",
       "    }\n",
       "\n",
       "    .dataframe tbody tr th {\n",
       "        vertical-align: top;\n",
       "    }\n",
       "\n",
       "    .dataframe thead th {\n",
       "        text-align: right;\n",
       "    }\n",
       "</style>\n",
       "<table border=\"1\" class=\"dataframe\">\n",
       "  <thead>\n",
       "    <tr style=\"text-align: right;\">\n",
       "      <th></th>\n",
       "      <th>Survived</th>\n",
       "      <th>Pclass</th>\n",
       "      <th>Sex</th>\n",
       "      <th>Age</th>\n",
       "      <th>SibSp</th>\n",
       "      <th>Parch</th>\n",
       "      <th>Fare</th>\n",
       "      <th>Embarked</th>\n",
       "    </tr>\n",
       "  </thead>\n",
       "  <tbody>\n",
       "    <tr>\n",
       "      <th>0</th>\n",
       "      <td>0</td>\n",
       "      <td>3</td>\n",
       "      <td>male</td>\n",
       "      <td>22.0</td>\n",
       "      <td>1</td>\n",
       "      <td>0</td>\n",
       "      <td>7.2500</td>\n",
       "      <td>S</td>\n",
       "    </tr>\n",
       "    <tr>\n",
       "      <th>1</th>\n",
       "      <td>1</td>\n",
       "      <td>1</td>\n",
       "      <td>female</td>\n",
       "      <td>38.0</td>\n",
       "      <td>1</td>\n",
       "      <td>0</td>\n",
       "      <td>71.2833</td>\n",
       "      <td>C</td>\n",
       "    </tr>\n",
       "    <tr>\n",
       "      <th>2</th>\n",
       "      <td>1</td>\n",
       "      <td>3</td>\n",
       "      <td>female</td>\n",
       "      <td>26.0</td>\n",
       "      <td>0</td>\n",
       "      <td>0</td>\n",
       "      <td>7.9250</td>\n",
       "      <td>S</td>\n",
       "    </tr>\n",
       "    <tr>\n",
       "      <th>3</th>\n",
       "      <td>1</td>\n",
       "      <td>1</td>\n",
       "      <td>female</td>\n",
       "      <td>35.0</td>\n",
       "      <td>1</td>\n",
       "      <td>0</td>\n",
       "      <td>53.1000</td>\n",
       "      <td>S</td>\n",
       "    </tr>\n",
       "    <tr>\n",
       "      <th>4</th>\n",
       "      <td>0</td>\n",
       "      <td>3</td>\n",
       "      <td>male</td>\n",
       "      <td>35.0</td>\n",
       "      <td>0</td>\n",
       "      <td>0</td>\n",
       "      <td>8.0500</td>\n",
       "      <td>S</td>\n",
       "    </tr>\n",
       "    <tr>\n",
       "      <th>...</th>\n",
       "      <td>...</td>\n",
       "      <td>...</td>\n",
       "      <td>...</td>\n",
       "      <td>...</td>\n",
       "      <td>...</td>\n",
       "      <td>...</td>\n",
       "      <td>...</td>\n",
       "      <td>...</td>\n",
       "    </tr>\n",
       "    <tr>\n",
       "      <th>885</th>\n",
       "      <td>0</td>\n",
       "      <td>3</td>\n",
       "      <td>female</td>\n",
       "      <td>39.0</td>\n",
       "      <td>0</td>\n",
       "      <td>5</td>\n",
       "      <td>29.1250</td>\n",
       "      <td>Q</td>\n",
       "    </tr>\n",
       "    <tr>\n",
       "      <th>886</th>\n",
       "      <td>0</td>\n",
       "      <td>2</td>\n",
       "      <td>male</td>\n",
       "      <td>27.0</td>\n",
       "      <td>0</td>\n",
       "      <td>0</td>\n",
       "      <td>13.0000</td>\n",
       "      <td>S</td>\n",
       "    </tr>\n",
       "    <tr>\n",
       "      <th>887</th>\n",
       "      <td>1</td>\n",
       "      <td>1</td>\n",
       "      <td>female</td>\n",
       "      <td>19.0</td>\n",
       "      <td>0</td>\n",
       "      <td>0</td>\n",
       "      <td>30.0000</td>\n",
       "      <td>S</td>\n",
       "    </tr>\n",
       "    <tr>\n",
       "      <th>889</th>\n",
       "      <td>1</td>\n",
       "      <td>1</td>\n",
       "      <td>male</td>\n",
       "      <td>26.0</td>\n",
       "      <td>0</td>\n",
       "      <td>0</td>\n",
       "      <td>30.0000</td>\n",
       "      <td>C</td>\n",
       "    </tr>\n",
       "    <tr>\n",
       "      <th>890</th>\n",
       "      <td>0</td>\n",
       "      <td>3</td>\n",
       "      <td>male</td>\n",
       "      <td>32.0</td>\n",
       "      <td>0</td>\n",
       "      <td>0</td>\n",
       "      <td>7.7500</td>\n",
       "      <td>Q</td>\n",
       "    </tr>\n",
       "  </tbody>\n",
       "</table>\n",
       "<p>714 rows × 8 columns</p>\n",
       "</div>"
      ],
      "text/plain": [
       "     Survived  Pclass     Sex   Age  SibSp  Parch     Fare Embarked\n",
       "0           0       3    male  22.0      1      0   7.2500        S\n",
       "1           1       1  female  38.0      1      0  71.2833        C\n",
       "2           1       3  female  26.0      0      0   7.9250        S\n",
       "3           1       1  female  35.0      1      0  53.1000        S\n",
       "4           0       3    male  35.0      0      0   8.0500        S\n",
       "..        ...     ...     ...   ...    ...    ...      ...      ...\n",
       "885         0       3  female  39.0      0      5  29.1250        Q\n",
       "886         0       2    male  27.0      0      0  13.0000        S\n",
       "887         1       1  female  19.0      0      0  30.0000        S\n",
       "889         1       1    male  26.0      0      0  30.0000        C\n",
       "890         0       3    male  32.0      0      0   7.7500        Q\n",
       "\n",
       "[714 rows x 8 columns]"
      ]
     },
     "execution_count": 8,
     "metadata": {},
     "output_type": "execute_result"
    }
   ],
   "source": [
    "train_data_dro_age = train_data.dropna()\n",
    "train_data_dro_age"
   ]
  },
  {
   "cell_type": "markdown",
   "id": "30ab80ae",
   "metadata": {
    "papermill": {
     "duration": 0.013582,
     "end_time": "2025-03-19T20:06:44.009832",
     "exception": false,
     "start_time": "2025-03-19T20:06:43.996250",
     "status": "completed"
    },
    "tags": []
   },
   "source": [
    "### 2. Заполним строки медианным зачением"
   ]
  },
  {
   "cell_type": "code",
   "execution_count": 9,
   "id": "acbc012b",
   "metadata": {
    "execution": {
     "iopub.execute_input": "2025-03-19T20:06:44.038545Z",
     "iopub.status.busy": "2025-03-19T20:06:44.038188Z",
     "iopub.status.idle": "2025-03-19T20:06:44.056132Z",
     "shell.execute_reply": "2025-03-19T20:06:44.055199Z"
    },
    "papermill": {
     "duration": 0.035196,
     "end_time": "2025-03-19T20:06:44.057841",
     "exception": false,
     "start_time": "2025-03-19T20:06:44.022645",
     "status": "completed"
    },
    "tags": []
   },
   "outputs": [
    {
     "data": {
      "text/html": [
       "<div>\n",
       "<style scoped>\n",
       "    .dataframe tbody tr th:only-of-type {\n",
       "        vertical-align: middle;\n",
       "    }\n",
       "\n",
       "    .dataframe tbody tr th {\n",
       "        vertical-align: top;\n",
       "    }\n",
       "\n",
       "    .dataframe thead th {\n",
       "        text-align: right;\n",
       "    }\n",
       "</style>\n",
       "<table border=\"1\" class=\"dataframe\">\n",
       "  <thead>\n",
       "    <tr style=\"text-align: right;\">\n",
       "      <th></th>\n",
       "      <th>Survived</th>\n",
       "      <th>Pclass</th>\n",
       "      <th>Sex</th>\n",
       "      <th>Age</th>\n",
       "      <th>SibSp</th>\n",
       "      <th>Parch</th>\n",
       "      <th>Fare</th>\n",
       "      <th>Embarked</th>\n",
       "    </tr>\n",
       "  </thead>\n",
       "  <tbody>\n",
       "    <tr>\n",
       "      <th>0</th>\n",
       "      <td>0</td>\n",
       "      <td>3</td>\n",
       "      <td>male</td>\n",
       "      <td>22.0</td>\n",
       "      <td>1</td>\n",
       "      <td>0</td>\n",
       "      <td>7.2500</td>\n",
       "      <td>S</td>\n",
       "    </tr>\n",
       "    <tr>\n",
       "      <th>1</th>\n",
       "      <td>1</td>\n",
       "      <td>1</td>\n",
       "      <td>female</td>\n",
       "      <td>38.0</td>\n",
       "      <td>1</td>\n",
       "      <td>0</td>\n",
       "      <td>71.2833</td>\n",
       "      <td>C</td>\n",
       "    </tr>\n",
       "    <tr>\n",
       "      <th>2</th>\n",
       "      <td>1</td>\n",
       "      <td>3</td>\n",
       "      <td>female</td>\n",
       "      <td>26.0</td>\n",
       "      <td>0</td>\n",
       "      <td>0</td>\n",
       "      <td>7.9250</td>\n",
       "      <td>S</td>\n",
       "    </tr>\n",
       "    <tr>\n",
       "      <th>3</th>\n",
       "      <td>1</td>\n",
       "      <td>1</td>\n",
       "      <td>female</td>\n",
       "      <td>35.0</td>\n",
       "      <td>1</td>\n",
       "      <td>0</td>\n",
       "      <td>53.1000</td>\n",
       "      <td>S</td>\n",
       "    </tr>\n",
       "    <tr>\n",
       "      <th>4</th>\n",
       "      <td>0</td>\n",
       "      <td>3</td>\n",
       "      <td>male</td>\n",
       "      <td>35.0</td>\n",
       "      <td>0</td>\n",
       "      <td>0</td>\n",
       "      <td>8.0500</td>\n",
       "      <td>S</td>\n",
       "    </tr>\n",
       "    <tr>\n",
       "      <th>...</th>\n",
       "      <td>...</td>\n",
       "      <td>...</td>\n",
       "      <td>...</td>\n",
       "      <td>...</td>\n",
       "      <td>...</td>\n",
       "      <td>...</td>\n",
       "      <td>...</td>\n",
       "      <td>...</td>\n",
       "    </tr>\n",
       "    <tr>\n",
       "      <th>886</th>\n",
       "      <td>0</td>\n",
       "      <td>2</td>\n",
       "      <td>male</td>\n",
       "      <td>27.0</td>\n",
       "      <td>0</td>\n",
       "      <td>0</td>\n",
       "      <td>13.0000</td>\n",
       "      <td>S</td>\n",
       "    </tr>\n",
       "    <tr>\n",
       "      <th>887</th>\n",
       "      <td>1</td>\n",
       "      <td>1</td>\n",
       "      <td>female</td>\n",
       "      <td>19.0</td>\n",
       "      <td>0</td>\n",
       "      <td>0</td>\n",
       "      <td>30.0000</td>\n",
       "      <td>S</td>\n",
       "    </tr>\n",
       "    <tr>\n",
       "      <th>888</th>\n",
       "      <td>0</td>\n",
       "      <td>3</td>\n",
       "      <td>female</td>\n",
       "      <td>24.0</td>\n",
       "      <td>1</td>\n",
       "      <td>2</td>\n",
       "      <td>23.4500</td>\n",
       "      <td>S</td>\n",
       "    </tr>\n",
       "    <tr>\n",
       "      <th>889</th>\n",
       "      <td>1</td>\n",
       "      <td>1</td>\n",
       "      <td>male</td>\n",
       "      <td>26.0</td>\n",
       "      <td>0</td>\n",
       "      <td>0</td>\n",
       "      <td>30.0000</td>\n",
       "      <td>C</td>\n",
       "    </tr>\n",
       "    <tr>\n",
       "      <th>890</th>\n",
       "      <td>0</td>\n",
       "      <td>3</td>\n",
       "      <td>male</td>\n",
       "      <td>32.0</td>\n",
       "      <td>0</td>\n",
       "      <td>0</td>\n",
       "      <td>7.7500</td>\n",
       "      <td>Q</td>\n",
       "    </tr>\n",
       "  </tbody>\n",
       "</table>\n",
       "<p>891 rows × 8 columns</p>\n",
       "</div>"
      ],
      "text/plain": [
       "     Survived  Pclass     Sex   Age  SibSp  Parch     Fare Embarked\n",
       "0           0       3    male  22.0      1      0   7.2500        S\n",
       "1           1       1  female  38.0      1      0  71.2833        C\n",
       "2           1       3  female  26.0      0      0   7.9250        S\n",
       "3           1       1  female  35.0      1      0  53.1000        S\n",
       "4           0       3    male  35.0      0      0   8.0500        S\n",
       "..        ...     ...     ...   ...    ...    ...      ...      ...\n",
       "886         0       2    male  27.0      0      0  13.0000        S\n",
       "887         1       1  female  19.0      0      0  30.0000        S\n",
       "888         0       3  female  24.0      1      2  23.4500        S\n",
       "889         1       1    male  26.0      0      0  30.0000        C\n",
       "890         0       3    male  32.0      0      0   7.7500        Q\n",
       "\n",
       "[891 rows x 8 columns]"
      ]
     },
     "execution_count": 9,
     "metadata": {},
     "output_type": "execute_result"
    }
   ],
   "source": [
    "train_data_mean_age = train_data.fillna(train_data['Age'].mode()[0])\n",
    "train_data_mean_age"
   ]
  },
  {
   "cell_type": "markdown",
   "id": "b0c7d578",
   "metadata": {
    "papermill": {
     "duration": 0.012674,
     "end_time": "2025-03-19T20:06:44.083641",
     "exception": false,
     "start_time": "2025-03-19T20:06:44.070967",
     "status": "completed"
    },
    "tags": []
   },
   "source": [
    "### 3. Интерполяция"
   ]
  },
  {
   "cell_type": "code",
   "execution_count": 10,
   "id": "7b02c883",
   "metadata": {
    "execution": {
     "iopub.execute_input": "2025-03-19T20:06:44.111970Z",
     "iopub.status.busy": "2025-03-19T20:06:44.111570Z",
     "iopub.status.idle": "2025-03-19T20:06:44.862224Z",
     "shell.execute_reply": "2025-03-19T20:06:44.861335Z"
    },
    "papermill": {
     "duration": 0.767049,
     "end_time": "2025-03-19T20:06:44.864285",
     "exception": false,
     "start_time": "2025-03-19T20:06:44.097236",
     "status": "completed"
    },
    "tags": []
   },
   "outputs": [
    {
     "name": "stderr",
     "output_type": "stream",
     "text": [
      "<ipython-input-10-827b9b8c886e>:3: FutureWarning: DataFrame.interpolate with object dtype is deprecated and will raise in a future version. Call obj.infer_objects(copy=False) before interpolating instead.\n",
      "  train_data_inter_l = train_data.interpolate(method='linear')\n",
      "<ipython-input-10-827b9b8c886e>:6: FutureWarning: DataFrame.interpolate with object dtype is deprecated and will raise in a future version. Call obj.infer_objects(copy=False) before interpolating instead.\n",
      "  train_data_inter_p = train_data.interpolate(method='polynomial', order=5)\n"
     ]
    }
   ],
   "source": [
    "# Еще метод, pandas.DataFrame.interpolate\n",
    "# линейная интерполяция\n",
    "train_data_inter_l = train_data.interpolate(method='linear')\n",
    "\n",
    "# полиномиальная интерполяция (с указанием степени order)\n",
    "train_data_inter_p = train_data.interpolate(method='polynomial', order=5)"
   ]
  },
  {
   "cell_type": "markdown",
   "id": "079dd4f8",
   "metadata": {
    "papermill": {
     "duration": 0.012719,
     "end_time": "2025-03-19T20:06:44.890118",
     "exception": false,
     "start_time": "2025-03-19T20:06:44.877399",
     "status": "completed"
    },
    "tags": []
   },
   "source": [
    "## Подготовим данные для модели, переведя категориальные признаки в числа\n"
   ]
  },
  {
   "cell_type": "code",
   "execution_count": 11,
   "id": "f44463d0",
   "metadata": {
    "execution": {
     "iopub.execute_input": "2025-03-19T20:06:44.918078Z",
     "iopub.status.busy": "2025-03-19T20:06:44.917509Z",
     "iopub.status.idle": "2025-03-19T20:06:44.922314Z",
     "shell.execute_reply": "2025-03-19T20:06:44.921175Z"
    },
    "papermill": {
     "duration": 0.021126,
     "end_time": "2025-03-19T20:06:44.924307",
     "exception": false,
     "start_time": "2025-03-19T20:06:44.903181",
     "status": "completed"
    },
    "tags": []
   },
   "outputs": [],
   "source": [
    "def to_dummies(df):\n",
    "    df = pd.get_dummies(df).astype(int)\n",
    "    return df"
   ]
  },
  {
   "cell_type": "code",
   "execution_count": 12,
   "id": "e5b040cd",
   "metadata": {
    "execution": {
     "iopub.execute_input": "2025-03-19T20:06:44.952942Z",
     "iopub.status.busy": "2025-03-19T20:06:44.952533Z",
     "iopub.status.idle": "2025-03-19T20:06:44.974711Z",
     "shell.execute_reply": "2025-03-19T20:06:44.973391Z"
    },
    "papermill": {
     "duration": 0.039101,
     "end_time": "2025-03-19T20:06:44.977021",
     "exception": false,
     "start_time": "2025-03-19T20:06:44.937920",
     "status": "completed"
    },
    "tags": []
   },
   "outputs": [],
   "source": [
    "# Датафрейм с опущенными NaN в Age\n",
    "train_data_dro_age = to_dummies(train_data_dro_age)\n",
    "# Датафрейм с модой в Age\n",
    "train_data_mean_age = to_dummies(train_data_mean_age)\n",
    "# Датафрейм с интерполированным Age (линейная)\n",
    "train_data_inter_l = to_dummies(train_data_inter_l)\n",
    "# Датафрейм с интерполированным Age (полиномиальная)\n",
    "train_data_inter_p = to_dummies(train_data_inter_p)"
   ]
  },
  {
   "cell_type": "markdown",
   "id": "f221929f",
   "metadata": {
    "papermill": {
     "duration": 0.013925,
     "end_time": "2025-03-19T20:06:45.004123",
     "exception": false,
     "start_time": "2025-03-19T20:06:44.990198",
     "status": "completed"
    },
    "tags": []
   },
   "source": [
    "## Делим данные на признаковые и целевую переменные"
   ]
  },
  {
   "cell_type": "code",
   "execution_count": 13,
   "id": "69d10333",
   "metadata": {
    "execution": {
     "iopub.execute_input": "2025-03-19T20:06:45.036601Z",
     "iopub.status.busy": "2025-03-19T20:06:45.036228Z",
     "iopub.status.idle": "2025-03-19T20:06:45.041675Z",
     "shell.execute_reply": "2025-03-19T20:06:45.039960Z"
    },
    "papermill": {
     "duration": 0.024389,
     "end_time": "2025-03-19T20:06:45.044087",
     "exception": false,
     "start_time": "2025-03-19T20:06:45.019698",
     "status": "completed"
    },
    "tags": []
   },
   "outputs": [],
   "source": [
    "def X_y_data(df):\n",
    "    X = df.drop('Survived', axis=1)\n",
    "    y = df[['Survived']]\n",
    "    return X, y"
   ]
  },
  {
   "cell_type": "code",
   "execution_count": 14,
   "id": "3ccfcf83",
   "metadata": {
    "execution": {
     "iopub.execute_input": "2025-03-19T20:06:45.072774Z",
     "iopub.status.busy": "2025-03-19T20:06:45.072342Z",
     "iopub.status.idle": "2025-03-19T20:06:45.083847Z",
     "shell.execute_reply": "2025-03-19T20:06:45.082732Z"
    },
    "papermill": {
     "duration": 0.02767,
     "end_time": "2025-03-19T20:06:45.085807",
     "exception": false,
     "start_time": "2025-03-19T20:06:45.058137",
     "status": "completed"
    },
    "tags": []
   },
   "outputs": [],
   "source": [
    "# Датафрейм с опущенными NaN в Age\n",
    "X_train_drop, y_train_drop = X_y_data(train_data_dro_age)\n",
    "# Датафрейм с модой в Age\n",
    "X_train_mean, y_train_mean = X_y_data(train_data_mean_age)\n",
    "# Датафрейм с интерполированным Age (линейная)\n",
    "X_train_inter_l, y_train_inter_l = X_y_data(train_data_inter_l)\n",
    "# Датафрейм с интерполированным Age (полиномиальная)\n",
    "X_train_inter_p, y_train_inter_p = X_y_data(train_data_inter_p)"
   ]
  },
  {
   "cell_type": "markdown",
   "id": "b4a14582",
   "metadata": {
    "papermill": {
     "duration": 0.014343,
     "end_time": "2025-03-19T20:06:45.113621",
     "exception": false,
     "start_time": "2025-03-19T20:06:45.099278",
     "status": "completed"
    },
    "tags": []
   },
   "source": [
    "### Разделим данные на трейн и тест"
   ]
  },
  {
   "cell_type": "code",
   "execution_count": 15,
   "id": "8a7a178e",
   "metadata": {
    "execution": {
     "iopub.execute_input": "2025-03-19T20:06:45.142438Z",
     "iopub.status.busy": "2025-03-19T20:06:45.142061Z",
     "iopub.status.idle": "2025-03-19T20:06:46.000474Z",
     "shell.execute_reply": "2025-03-19T20:06:45.999364Z"
    },
    "papermill": {
     "duration": 0.874482,
     "end_time": "2025-03-19T20:06:46.002402",
     "exception": false,
     "start_time": "2025-03-19T20:06:45.127920",
     "status": "completed"
    },
    "tags": []
   },
   "outputs": [],
   "source": [
    "from sklearn.model_selection import train_test_split"
   ]
  },
  {
   "cell_type": "code",
   "execution_count": 16,
   "id": "e8e078cc",
   "metadata": {
    "execution": {
     "iopub.execute_input": "2025-03-19T20:06:46.030652Z",
     "iopub.status.busy": "2025-03-19T20:06:46.030122Z",
     "iopub.status.idle": "2025-03-19T20:06:46.035421Z",
     "shell.execute_reply": "2025-03-19T20:06:46.034374Z"
    },
    "papermill": {
     "duration": 0.021479,
     "end_time": "2025-03-19T20:06:46.037322",
     "exception": false,
     "start_time": "2025-03-19T20:06:46.015843",
     "status": "completed"
    },
    "tags": []
   },
   "outputs": [],
   "source": [
    "def splitting(X, y):\n",
    "    train_X, test_X, train_y, test_y = train_test_split(X, y, test_size=0.2, random_state=45)\n",
    "    return train_X, test_X, train_y, test_y"
   ]
  },
  {
   "cell_type": "code",
   "execution_count": 17,
   "id": "244e9a59",
   "metadata": {
    "execution": {
     "iopub.execute_input": "2025-03-19T20:06:46.065325Z",
     "iopub.status.busy": "2025-03-19T20:06:46.064935Z",
     "iopub.status.idle": "2025-03-19T20:06:46.078065Z",
     "shell.execute_reply": "2025-03-19T20:06:46.077016Z"
    },
    "papermill": {
     "duration": 0.029222,
     "end_time": "2025-03-19T20:06:46.079896",
     "exception": false,
     "start_time": "2025-03-19T20:06:46.050674",
     "status": "completed"
    },
    "tags": []
   },
   "outputs": [],
   "source": [
    "# Датафрейм с опущенными NaN в Age\n",
    "train_X_drop, test_X_drop, train_y_drop, test_y_drop = splitting(X_train_drop, y_train_drop)\n",
    "# Датафрейм с модой в Age\n",
    "train_X_mean, test_X_mean, train_y_mean, test_y_mean = splitting(X_train_mean, y_train_mean)\n",
    "# Датафрейм с интерполированным Age (линейная)\n",
    "train_X_l, test_X_l, train_y_l, test_y_l = splitting(X_train_inter_l, y_train_inter_l)\n",
    "# Датафрейм с интерполированным Age (полиномиальная)\n",
    "train_X_p, test_X_p, train_y_p, test_y_p = splitting(X_train_inter_p, y_train_inter_p)"
   ]
  },
  {
   "cell_type": "markdown",
   "id": "b122b908",
   "metadata": {
    "execution": {
     "iopub.execute_input": "2025-03-19T18:16:02.842050Z",
     "iopub.status.busy": "2025-03-19T18:16:02.841603Z",
     "iopub.status.idle": "2025-03-19T18:16:02.846399Z",
     "shell.execute_reply": "2025-03-19T18:16:02.845192Z",
     "shell.execute_reply.started": "2025-03-19T18:16:02.842007Z"
    },
    "papermill": {
     "duration": 0.013111,
     "end_time": "2025-03-19T20:06:46.106411",
     "exception": false,
     "start_time": "2025-03-19T20:06:46.093300",
     "status": "completed"
    },
    "tags": []
   },
   "source": [
    "# Дерево решений"
   ]
  },
  {
   "cell_type": "markdown",
   "id": "f4500bb1",
   "metadata": {
    "papermill": {
     "duration": 0.01271,
     "end_time": "2025-03-19T20:06:46.132585",
     "exception": false,
     "start_time": "2025-03-19T20:06:46.119875",
     "status": "completed"
    },
    "tags": []
   },
   "source": [
    "## Обучение"
   ]
  },
  {
   "cell_type": "code",
   "execution_count": 18,
   "id": "de6f7c69",
   "metadata": {
    "execution": {
     "iopub.execute_input": "2025-03-19T20:06:46.160532Z",
     "iopub.status.busy": "2025-03-19T20:06:46.160171Z",
     "iopub.status.idle": "2025-03-19T20:06:46.460499Z",
     "shell.execute_reply": "2025-03-19T20:06:46.459338Z"
    },
    "papermill": {
     "duration": 0.316516,
     "end_time": "2025-03-19T20:06:46.462539",
     "exception": false,
     "start_time": "2025-03-19T20:06:46.146023",
     "status": "completed"
    },
    "tags": []
   },
   "outputs": [],
   "source": [
    "from sklearn.tree import DecisionTreeClassifier\n",
    "DTC_1 = DecisionTreeClassifier(max_depth=10)\n",
    "DTC_2 = DecisionTreeClassifier(max_depth=10)\n",
    "DTC_3 = DecisionTreeClassifier(max_depth=10)\n",
    "DTC_4 = DecisionTreeClassifier(max_depth=10)"
   ]
  },
  {
   "cell_type": "code",
   "execution_count": 19,
   "id": "f9aa1703",
   "metadata": {
    "execution": {
     "iopub.execute_input": "2025-03-19T20:06:46.491091Z",
     "iopub.status.busy": "2025-03-19T20:06:46.490707Z",
     "iopub.status.idle": "2025-03-19T20:06:46.495018Z",
     "shell.execute_reply": "2025-03-19T20:06:46.493983Z"
    },
    "papermill": {
     "duration": 0.020982,
     "end_time": "2025-03-19T20:06:46.497010",
     "exception": false,
     "start_time": "2025-03-19T20:06:46.476028",
     "status": "completed"
    },
    "tags": []
   },
   "outputs": [],
   "source": [
    "def fit_model(model, X, y):\n",
    "    model.fit(X, y)"
   ]
  },
  {
   "cell_type": "code",
   "execution_count": 20,
   "id": "82dbc51b",
   "metadata": {
    "execution": {
     "iopub.execute_input": "2025-03-19T20:06:46.526734Z",
     "iopub.status.busy": "2025-03-19T20:06:46.526348Z",
     "iopub.status.idle": "2025-03-19T20:06:46.548909Z",
     "shell.execute_reply": "2025-03-19T20:06:46.547660Z"
    },
    "papermill": {
     "duration": 0.040004,
     "end_time": "2025-03-19T20:06:46.550827",
     "exception": false,
     "start_time": "2025-03-19T20:06:46.510823",
     "status": "completed"
    },
    "tags": []
   },
   "outputs": [],
   "source": [
    "# Датафрейм с опущенными NaN в Age\n",
    "fit_model(DTC_1, train_X_drop, train_y_drop)\n",
    "# Датафрейм с модой в Age\n",
    "fit_model(DTC_2, train_X_mean, train_y_mean)\n",
    "# Датафрейм с интерполированным Age (линейная)\n",
    "fit_model(DTC_3, train_X_l, train_y_l)\n",
    "# Датафрейм с интерполированным Age (полиномиальная)\n",
    "fit_model(DTC_4, train_X_p, train_y_p)\n",
    "\n",
    "# На этом этапе модель обучена"
   ]
  },
  {
   "cell_type": "markdown",
   "id": "6e1eb187",
   "metadata": {
    "papermill": {
     "duration": 0.012568,
     "end_time": "2025-03-19T20:06:46.576485",
     "exception": false,
     "start_time": "2025-03-19T20:06:46.563917",
     "status": "completed"
    },
    "tags": []
   },
   "source": [
    "## Далее делаем предсказание"
   ]
  },
  {
   "cell_type": "code",
   "execution_count": 21,
   "id": "2bf8af66",
   "metadata": {
    "execution": {
     "iopub.execute_input": "2025-03-19T20:06:46.604777Z",
     "iopub.status.busy": "2025-03-19T20:06:46.604400Z",
     "iopub.status.idle": "2025-03-19T20:06:46.608743Z",
     "shell.execute_reply": "2025-03-19T20:06:46.607639Z"
    },
    "papermill": {
     "duration": 0.020494,
     "end_time": "2025-03-19T20:06:46.610585",
     "exception": false,
     "start_time": "2025-03-19T20:06:46.590091",
     "status": "completed"
    },
    "tags": []
   },
   "outputs": [],
   "source": [
    "def prediction(model, test):\n",
    "    return model.predict(test)"
   ]
  },
  {
   "cell_type": "code",
   "execution_count": 22,
   "id": "2e492925",
   "metadata": {
    "execution": {
     "iopub.execute_input": "2025-03-19T20:06:46.638857Z",
     "iopub.status.busy": "2025-03-19T20:06:46.638455Z",
     "iopub.status.idle": "2025-03-19T20:06:46.649808Z",
     "shell.execute_reply": "2025-03-19T20:06:46.648727Z"
    },
    "papermill": {
     "duration": 0.027447,
     "end_time": "2025-03-19T20:06:46.651644",
     "exception": false,
     "start_time": "2025-03-19T20:06:46.624197",
     "status": "completed"
    },
    "tags": []
   },
   "outputs": [],
   "source": [
    "y_pred_drop = prediction(DTC_1, test_X_drop)\n",
    "y_pred_mean = prediction(DTC_2, test_X_mean)\n",
    "y_pred_l = prediction(DTC_3, test_X_l)\n",
    "y_pred_p = prediction(DTC_4, test_X_p)"
   ]
  },
  {
   "cell_type": "code",
   "execution_count": 23,
   "id": "3f7eb579",
   "metadata": {
    "execution": {
     "iopub.execute_input": "2025-03-19T20:06:46.679113Z",
     "iopub.status.busy": "2025-03-19T20:06:46.678690Z",
     "iopub.status.idle": "2025-03-19T20:06:46.683685Z",
     "shell.execute_reply": "2025-03-19T20:06:46.682560Z"
    },
    "papermill": {
     "duration": 0.02073,
     "end_time": "2025-03-19T20:06:46.685453",
     "exception": false,
     "start_time": "2025-03-19T20:06:46.664723",
     "status": "completed"
    },
    "tags": []
   },
   "outputs": [],
   "source": [
    "# Объединим трейн и тест в один датафрейм\n",
    "def to_df(test, pred):\n",
    "    df = pd.DataFrame()\n",
    "    df['orig'] = test\n",
    "    df['pred'] = pred\n",
    "    return df"
   ]
  },
  {
   "cell_type": "code",
   "execution_count": 24,
   "id": "64c9ca7e",
   "metadata": {
    "execution": {
     "iopub.execute_input": "2025-03-19T20:06:46.713415Z",
     "iopub.status.busy": "2025-03-19T20:06:46.712896Z",
     "iopub.status.idle": "2025-03-19T20:06:46.724656Z",
     "shell.execute_reply": "2025-03-19T20:06:46.723719Z"
    },
    "papermill": {
     "duration": 0.027766,
     "end_time": "2025-03-19T20:06:46.726459",
     "exception": false,
     "start_time": "2025-03-19T20:06:46.698693",
     "status": "completed"
    },
    "tags": []
   },
   "outputs": [],
   "source": [
    "df_drop = to_df(test_y_drop, y_pred_drop)\n",
    "df_mean = to_df(test_y_mean, y_pred_mean)\n",
    "df_l = to_df(test_y_l, y_pred_l)\n",
    "df_p = to_df(test_y_p, y_pred_p)"
   ]
  },
  {
   "cell_type": "markdown",
   "id": "4f82f5fa",
   "metadata": {
    "papermill": {
     "duration": 0.012972,
     "end_time": "2025-03-19T20:06:46.753245",
     "exception": false,
     "start_time": "2025-03-19T20:06:46.740273",
     "status": "completed"
    },
    "tags": []
   },
   "source": [
    "## Смотрим метрики, сравниваем результаты"
   ]
  },
  {
   "cell_type": "code",
   "execution_count": 25,
   "id": "ca871a95",
   "metadata": {
    "execution": {
     "iopub.execute_input": "2025-03-19T20:06:46.780942Z",
     "iopub.status.busy": "2025-03-19T20:06:46.780516Z",
     "iopub.status.idle": "2025-03-19T20:06:46.785227Z",
     "shell.execute_reply": "2025-03-19T20:06:46.784048Z"
    },
    "papermill": {
     "duration": 0.020997,
     "end_time": "2025-03-19T20:06:46.787412",
     "exception": false,
     "start_time": "2025-03-19T20:06:46.766415",
     "status": "completed"
    },
    "tags": []
   },
   "outputs": [],
   "source": [
    "from sklearn.metrics import precision_score, recall_score, f1_score, roc_curve, accuracy_score"
   ]
  },
  {
   "cell_type": "code",
   "execution_count": 26,
   "id": "c11fbbe7",
   "metadata": {
    "execution": {
     "iopub.execute_input": "2025-03-19T20:06:46.815439Z",
     "iopub.status.busy": "2025-03-19T20:06:46.815067Z",
     "iopub.status.idle": "2025-03-19T20:06:46.819909Z",
     "shell.execute_reply": "2025-03-19T20:06:46.818865Z"
    },
    "papermill": {
     "duration": 0.020634,
     "end_time": "2025-03-19T20:06:46.821642",
     "exception": false,
     "start_time": "2025-03-19T20:06:46.801008",
     "status": "completed"
    },
    "tags": []
   },
   "outputs": [],
   "source": [
    "def mtrx(orig, pred, s):\n",
    "    pres = precision_score(orig, pred)\n",
    "    rec = recall_score(orig, pred)\n",
    "    f1 = f1_score(orig, pred)\n",
    "    print(f'{s}. pres:{pres}, rec:{rec}, f1:{f1}')"
   ]
  },
  {
   "cell_type": "code",
   "execution_count": 27,
   "id": "670749a5",
   "metadata": {
    "execution": {
     "iopub.execute_input": "2025-03-19T20:06:46.849721Z",
     "iopub.status.busy": "2025-03-19T20:06:46.849359Z",
     "iopub.status.idle": "2025-03-19T20:06:46.933874Z",
     "shell.execute_reply": "2025-03-19T20:06:46.932625Z"
    },
    "papermill": {
     "duration": 0.101001,
     "end_time": "2025-03-19T20:06:46.935810",
     "exception": false,
     "start_time": "2025-03-19T20:06:46.834809",
     "status": "completed"
    },
    "tags": []
   },
   "outputs": [
    {
     "name": "stdout",
     "output_type": "stream",
     "text": [
      "Опущены Nan. pres:0.7959183673469388, rec:0.6842105263157895, f1:0.7358490566037734\n",
      "Заполнено модой. pres:0.7540983606557377, rec:0.7419354838709677, f1:0.7479674796747967\n",
      "интерполяция линейная. pres:0.7272727272727273, rec:0.7741935483870968, f1:0.7500000000000001\n",
      "интерполяция степенная. pres:0.7903225806451613, rec:0.7903225806451613, f1:0.7903225806451614\n"
     ]
    }
   ],
   "source": [
    "mtrx(test_y_drop, y_pred_drop, 'Опущены Nan')\n",
    "mtrx(test_y_mean, y_pred_mean, 'Заполнено модой')\n",
    "mtrx(test_y_l, y_pred_l, 'интерполяция линейная')\n",
    "mtrx(test_y_p, y_pred_p, 'интерполяция степенная')\n",
    "# Выбираем лучший"
   ]
  },
  {
   "cell_type": "markdown",
   "id": "2e52f4f8",
   "metadata": {
    "papermill": {
     "duration": 0.01291,
     "end_time": "2025-03-19T20:06:46.961991",
     "exception": false,
     "start_time": "2025-03-19T20:06:46.949081",
     "status": "completed"
    },
    "tags": []
   },
   "source": [
    "# Логистическая регрессия"
   ]
  },
  {
   "cell_type": "code",
   "execution_count": 28,
   "id": "112cbad7",
   "metadata": {
    "execution": {
     "iopub.execute_input": "2025-03-19T20:06:46.990419Z",
     "iopub.status.busy": "2025-03-19T20:06:46.990069Z",
     "iopub.status.idle": "2025-03-19T20:06:46.995644Z",
     "shell.execute_reply": "2025-03-19T20:06:46.994475Z"
    },
    "papermill": {
     "duration": 0.022142,
     "end_time": "2025-03-19T20:06:46.997985",
     "exception": false,
     "start_time": "2025-03-19T20:06:46.975843",
     "status": "completed"
    },
    "tags": []
   },
   "outputs": [],
   "source": [
    "from sklearn.linear_model import LogisticRegression\n",
    "LogReg_1 = LogisticRegression(max_iter=200)\n",
    "LogReg_2 = LogisticRegression(max_iter=200)\n",
    "LogReg_3 = LogisticRegression(max_iter=200)\n",
    "LogReg_4 = LogisticRegression(max_iter=200)"
   ]
  },
  {
   "cell_type": "code",
   "execution_count": 29,
   "id": "5b94099f",
   "metadata": {
    "execution": {
     "iopub.execute_input": "2025-03-19T20:06:47.107660Z",
     "iopub.status.busy": "2025-03-19T20:06:47.107287Z",
     "iopub.status.idle": "2025-03-19T20:06:47.371036Z",
     "shell.execute_reply": "2025-03-19T20:06:47.369883Z"
    },
    "papermill": {
     "duration": 0.353306,
     "end_time": "2025-03-19T20:06:47.372905",
     "exception": false,
     "start_time": "2025-03-19T20:06:47.019599",
     "status": "completed"
    },
    "tags": []
   },
   "outputs": [
    {
     "name": "stderr",
     "output_type": "stream",
     "text": [
      "/usr/local/lib/python3.10/dist-packages/sklearn/utils/validation.py:1143: DataConversionWarning: A column-vector y was passed when a 1d array was expected. Please change the shape of y to (n_samples, ), for example using ravel().\n",
      "  y = column_or_1d(y, warn=True)\n",
      "/usr/local/lib/python3.10/dist-packages/sklearn/linear_model/_logistic.py:458: ConvergenceWarning: lbfgs failed to converge (status=1):\n",
      "STOP: TOTAL NO. of ITERATIONS REACHED LIMIT.\n",
      "\n",
      "Increase the number of iterations (max_iter) or scale the data as shown in:\n",
      "    https://scikit-learn.org/stable/modules/preprocessing.html\n",
      "Please also refer to the documentation for alternative solver options:\n",
      "    https://scikit-learn.org/stable/modules/linear_model.html#logistic-regression\n",
      "  n_iter_i = _check_optimize_result(\n",
      "/usr/local/lib/python3.10/dist-packages/sklearn/utils/validation.py:1143: DataConversionWarning: A column-vector y was passed when a 1d array was expected. Please change the shape of y to (n_samples, ), for example using ravel().\n",
      "  y = column_or_1d(y, warn=True)\n",
      "/usr/local/lib/python3.10/dist-packages/sklearn/linear_model/_logistic.py:458: ConvergenceWarning: lbfgs failed to converge (status=1):\n",
      "STOP: TOTAL NO. of ITERATIONS REACHED LIMIT.\n",
      "\n",
      "Increase the number of iterations (max_iter) or scale the data as shown in:\n",
      "    https://scikit-learn.org/stable/modules/preprocessing.html\n",
      "Please also refer to the documentation for alternative solver options:\n",
      "    https://scikit-learn.org/stable/modules/linear_model.html#logistic-regression\n",
      "  n_iter_i = _check_optimize_result(\n",
      "/usr/local/lib/python3.10/dist-packages/sklearn/utils/validation.py:1143: DataConversionWarning: A column-vector y was passed when a 1d array was expected. Please change the shape of y to (n_samples, ), for example using ravel().\n",
      "  y = column_or_1d(y, warn=True)\n",
      "/usr/local/lib/python3.10/dist-packages/sklearn/linear_model/_logistic.py:458: ConvergenceWarning: lbfgs failed to converge (status=1):\n",
      "STOP: TOTAL NO. of ITERATIONS REACHED LIMIT.\n",
      "\n",
      "Increase the number of iterations (max_iter) or scale the data as shown in:\n",
      "    https://scikit-learn.org/stable/modules/preprocessing.html\n",
      "Please also refer to the documentation for alternative solver options:\n",
      "    https://scikit-learn.org/stable/modules/linear_model.html#logistic-regression\n",
      "  n_iter_i = _check_optimize_result(\n",
      "/usr/local/lib/python3.10/dist-packages/sklearn/utils/validation.py:1143: DataConversionWarning: A column-vector y was passed when a 1d array was expected. Please change the shape of y to (n_samples, ), for example using ravel().\n",
      "  y = column_or_1d(y, warn=True)\n",
      "/usr/local/lib/python3.10/dist-packages/sklearn/linear_model/_logistic.py:458: ConvergenceWarning: lbfgs failed to converge (status=1):\n",
      "STOP: TOTAL NO. of ITERATIONS REACHED LIMIT.\n",
      "\n",
      "Increase the number of iterations (max_iter) or scale the data as shown in:\n",
      "    https://scikit-learn.org/stable/modules/preprocessing.html\n",
      "Please also refer to the documentation for alternative solver options:\n",
      "    https://scikit-learn.org/stable/modules/linear_model.html#logistic-regression\n",
      "  n_iter_i = _check_optimize_result(\n"
     ]
    }
   ],
   "source": [
    "# обучим эту модель \n",
    "# Датафрейм с опущенными NaN в Age\n",
    "fit_model(LogReg_1, train_X_drop, train_y_drop)\n",
    "# Датафрейм с модой в Age\n",
    "fit_model(LogReg_2, train_X_mean, train_y_mean)\n",
    "# Датафрейм с интерполированным Age (линейная)\n",
    "fit_model(LogReg_3, train_X_l, train_y_l)\n",
    "# Датафрейм с интерполированным Age (полиномиальная)\n",
    "fit_model(LogReg_4, train_X_p, train_y_p)"
   ]
  },
  {
   "cell_type": "code",
   "execution_count": 30,
   "id": "690360a9",
   "metadata": {
    "execution": {
     "iopub.execute_input": "2025-03-19T20:06:47.401503Z",
     "iopub.status.busy": "2025-03-19T20:06:47.401150Z",
     "iopub.status.idle": "2025-03-19T20:06:47.411695Z",
     "shell.execute_reply": "2025-03-19T20:06:47.410615Z"
    },
    "papermill": {
     "duration": 0.026588,
     "end_time": "2025-03-19T20:06:47.413311",
     "exception": false,
     "start_time": "2025-03-19T20:06:47.386723",
     "status": "completed"
    },
    "tags": []
   },
   "outputs": [],
   "source": [
    "pred_drop = prediction(LogReg_1, test_X_drop)\n",
    "pred_mean = prediction(LogReg_2, test_X_mean)\n",
    "pred_l = prediction(LogReg_3, test_X_l)\n",
    "pred_p = prediction(LogReg_4, test_X_p)"
   ]
  },
  {
   "cell_type": "markdown",
   "id": "ee627857",
   "metadata": {
    "papermill": {
     "duration": 0.012941,
     "end_time": "2025-03-19T20:06:47.440356",
     "exception": false,
     "start_time": "2025-03-19T20:06:47.427415",
     "status": "completed"
    },
    "tags": []
   },
   "source": [
    "### Снова сравниваем метрики"
   ]
  },
  {
   "cell_type": "code",
   "execution_count": 31,
   "id": "621cb946",
   "metadata": {
    "execution": {
     "iopub.execute_input": "2025-03-19T20:06:47.469283Z",
     "iopub.status.busy": "2025-03-19T20:06:47.468900Z",
     "iopub.status.idle": "2025-03-19T20:06:47.552014Z",
     "shell.execute_reply": "2025-03-19T20:06:47.550770Z"
    },
    "papermill": {
     "duration": 0.099587,
     "end_time": "2025-03-19T20:06:47.553965",
     "exception": false,
     "start_time": "2025-03-19T20:06:47.454378",
     "status": "completed"
    },
    "tags": []
   },
   "outputs": [
    {
     "name": "stdout",
     "output_type": "stream",
     "text": [
      "Опущены Nan. pres:0.7592592592592593, rec:0.7192982456140351, f1:0.7387387387387387\n",
      "Заполнено модой. pres:0.7619047619047619, rec:0.7741935483870968, f1:0.768\n",
      "интерполяция линейная. pres:0.7741935483870968, rec:0.7741935483870968, f1:0.7741935483870968\n",
      "интерполяция степенная. pres:0.7619047619047619, rec:0.7741935483870968, f1:0.768\n"
     ]
    }
   ],
   "source": [
    "mtrx(test_y_drop, pred_drop, 'Опущены Nan')\n",
    "mtrx(test_y_mean, pred_mean, 'Заполнено модой') # лучший вариант\n",
    "mtrx(test_y_l, pred_l, 'интерполяция линейная')\n",
    "mtrx(test_y_p, pred_p, 'интерполяция степенная')"
   ]
  },
  {
   "cell_type": "markdown",
   "id": "2a88352a",
   "metadata": {
    "papermill": {
     "duration": 0.013797,
     "end_time": "2025-03-19T20:06:47.582208",
     "exception": false,
     "start_time": "2025-03-19T20:06:47.568411",
     "status": "completed"
    },
    "tags": []
   },
   "source": [
    "# Ансамбли"
   ]
  },
  {
   "cell_type": "markdown",
   "id": "a1bab279",
   "metadata": {
    "execution": {
     "iopub.execute_input": "2025-03-19T19:33:21.331851Z",
     "iopub.status.busy": "2025-03-19T19:33:21.331488Z",
     "iopub.status.idle": "2025-03-19T19:33:21.335820Z",
     "shell.execute_reply": "2025-03-19T19:33:21.334769Z",
     "shell.execute_reply.started": "2025-03-19T19:33:21.331826Z"
    },
    "papermill": {
     "duration": 0.014526,
     "end_time": "2025-03-19T20:06:47.611490",
     "exception": false,
     "start_time": "2025-03-19T20:06:47.596964",
     "status": "completed"
    },
    "tags": []
   },
   "source": [
    "### Stacking"
   ]
  },
  {
   "cell_type": "code",
   "execution_count": 32,
   "id": "1b694f02",
   "metadata": {
    "execution": {
     "iopub.execute_input": "2025-03-19T20:06:47.639846Z",
     "iopub.status.busy": "2025-03-19T20:06:47.639428Z",
     "iopub.status.idle": "2025-03-19T20:06:47.775039Z",
     "shell.execute_reply": "2025-03-19T20:06:47.773695Z"
    },
    "papermill": {
     "duration": 0.152145,
     "end_time": "2025-03-19T20:06:47.777175",
     "exception": false,
     "start_time": "2025-03-19T20:06:47.625030",
     "status": "completed"
    },
    "tags": []
   },
   "outputs": [],
   "source": [
    "from sklearn.ensemble import StackingClassifier"
   ]
  },
  {
   "cell_type": "code",
   "execution_count": 33,
   "id": "9bab4848",
   "metadata": {
    "execution": {
     "iopub.execute_input": "2025-03-19T20:06:47.806350Z",
     "iopub.status.busy": "2025-03-19T20:06:47.805987Z",
     "iopub.status.idle": "2025-03-19T20:06:47.810666Z",
     "shell.execute_reply": "2025-03-19T20:06:47.809772Z"
    },
    "papermill": {
     "duration": 0.021291,
     "end_time": "2025-03-19T20:06:47.812664",
     "exception": false,
     "start_time": "2025-03-19T20:06:47.791373",
     "status": "completed"
    },
    "tags": []
   },
   "outputs": [],
   "source": [
    "# Создание ансамбля с использованием стекинга\n",
    "estimators = [\n",
    "    ('tree', DTC_4),\n",
    "    ('log_reg', LogReg_4)\n",
    "]\n",
    "stacking_clf = StackingClassifier(estimators=estimators, final_estimator=LogisticRegression())"
   ]
  },
  {
   "cell_type": "code",
   "execution_count": 34,
   "id": "d05a2264",
   "metadata": {
    "execution": {
     "iopub.execute_input": "2025-03-19T20:06:47.841159Z",
     "iopub.status.busy": "2025-03-19T20:06:47.840718Z",
     "iopub.status.idle": "2025-03-19T20:06:48.144570Z",
     "shell.execute_reply": "2025-03-19T20:06:48.143426Z"
    },
    "papermill": {
     "duration": 0.320235,
     "end_time": "2025-03-19T20:06:48.146582",
     "exception": false,
     "start_time": "2025-03-19T20:06:47.826347",
     "status": "completed"
    },
    "tags": []
   },
   "outputs": [
    {
     "name": "stderr",
     "output_type": "stream",
     "text": [
      "/usr/local/lib/python3.10/dist-packages/sklearn/preprocessing/_label.py:99: DataConversionWarning: A column-vector y was passed when a 1d array was expected. Please change the shape of y to (n_samples, ), for example using ravel().\n",
      "  y = column_or_1d(y, warn=True)\n",
      "/usr/local/lib/python3.10/dist-packages/sklearn/preprocessing/_label.py:134: DataConversionWarning: A column-vector y was passed when a 1d array was expected. Please change the shape of y to (n_samples, ), for example using ravel().\n",
      "  y = column_or_1d(y, dtype=self.classes_.dtype, warn=True)\n",
      "/usr/local/lib/python3.10/dist-packages/sklearn/linear_model/_logistic.py:458: ConvergenceWarning: lbfgs failed to converge (status=1):\n",
      "STOP: TOTAL NO. of ITERATIONS REACHED LIMIT.\n",
      "\n",
      "Increase the number of iterations (max_iter) or scale the data as shown in:\n",
      "    https://scikit-learn.org/stable/modules/preprocessing.html\n",
      "Please also refer to the documentation for alternative solver options:\n",
      "    https://scikit-learn.org/stable/modules/linear_model.html#logistic-regression\n",
      "  n_iter_i = _check_optimize_result(\n",
      "/usr/local/lib/python3.10/dist-packages/sklearn/linear_model/_logistic.py:458: ConvergenceWarning: lbfgs failed to converge (status=1):\n",
      "STOP: TOTAL NO. of ITERATIONS REACHED LIMIT.\n",
      "\n",
      "Increase the number of iterations (max_iter) or scale the data as shown in:\n",
      "    https://scikit-learn.org/stable/modules/preprocessing.html\n",
      "Please also refer to the documentation for alternative solver options:\n",
      "    https://scikit-learn.org/stable/modules/linear_model.html#logistic-regression\n",
      "  n_iter_i = _check_optimize_result(\n",
      "/usr/local/lib/python3.10/dist-packages/sklearn/linear_model/_logistic.py:458: ConvergenceWarning: lbfgs failed to converge (status=1):\n",
      "STOP: TOTAL NO. of ITERATIONS REACHED LIMIT.\n",
      "\n",
      "Increase the number of iterations (max_iter) or scale the data as shown in:\n",
      "    https://scikit-learn.org/stable/modules/preprocessing.html\n",
      "Please also refer to the documentation for alternative solver options:\n",
      "    https://scikit-learn.org/stable/modules/linear_model.html#logistic-regression\n",
      "  n_iter_i = _check_optimize_result(\n",
      "/usr/local/lib/python3.10/dist-packages/sklearn/linear_model/_logistic.py:458: ConvergenceWarning: lbfgs failed to converge (status=1):\n",
      "STOP: TOTAL NO. of ITERATIONS REACHED LIMIT.\n",
      "\n",
      "Increase the number of iterations (max_iter) or scale the data as shown in:\n",
      "    https://scikit-learn.org/stable/modules/preprocessing.html\n",
      "Please also refer to the documentation for alternative solver options:\n",
      "    https://scikit-learn.org/stable/modules/linear_model.html#logistic-regression\n",
      "  n_iter_i = _check_optimize_result(\n",
      "/usr/local/lib/python3.10/dist-packages/sklearn/linear_model/_logistic.py:458: ConvergenceWarning: lbfgs failed to converge (status=1):\n",
      "STOP: TOTAL NO. of ITERATIONS REACHED LIMIT.\n",
      "\n",
      "Increase the number of iterations (max_iter) or scale the data as shown in:\n",
      "    https://scikit-learn.org/stable/modules/preprocessing.html\n",
      "Please also refer to the documentation for alternative solver options:\n",
      "    https://scikit-learn.org/stable/modules/linear_model.html#logistic-regression\n",
      "  n_iter_i = _check_optimize_result(\n",
      "/usr/local/lib/python3.10/dist-packages/sklearn/linear_model/_logistic.py:458: ConvergenceWarning: lbfgs failed to converge (status=1):\n",
      "STOP: TOTAL NO. of ITERATIONS REACHED LIMIT.\n",
      "\n",
      "Increase the number of iterations (max_iter) or scale the data as shown in:\n",
      "    https://scikit-learn.org/stable/modules/preprocessing.html\n",
      "Please also refer to the documentation for alternative solver options:\n",
      "    https://scikit-learn.org/stable/modules/linear_model.html#logistic-regression\n",
      "  n_iter_i = _check_optimize_result(\n"
     ]
    }
   ],
   "source": [
    "# Обучение модели\n",
    "stacking_clf.fit(train_X_mean, train_y_mean)\n",
    "\n",
    "# Предсказание на тестовой выборке\n",
    "y_pred = stacking_clf.predict(test_X_mean)"
   ]
  },
  {
   "cell_type": "code",
   "execution_count": 35,
   "id": "d80b2eec",
   "metadata": {
    "execution": {
     "iopub.execute_input": "2025-03-19T20:06:48.176084Z",
     "iopub.status.busy": "2025-03-19T20:06:48.175661Z",
     "iopub.status.idle": "2025-03-19T20:06:48.196343Z",
     "shell.execute_reply": "2025-03-19T20:06:48.195206Z"
    },
    "papermill": {
     "duration": 0.038404,
     "end_time": "2025-03-19T20:06:48.199012",
     "exception": false,
     "start_time": "2025-03-19T20:06:48.160608",
     "status": "completed"
    },
    "tags": []
   },
   "outputs": [
    {
     "name": "stdout",
     "output_type": "stream",
     "text": [
      "precision: 0.81\n",
      " recall: 0.81\n"
     ]
    }
   ],
   "source": [
    "### Оценка метрик ансамбля 1\n",
    "precision = precision_score(test_y_mean, y_pred)\n",
    "rec = recall_score(test_y_mean, y_pred)\n",
    "print(f'precision: {precision:.2f}\\n recall: {rec:.2f}')"
   ]
  },
  {
   "cell_type": "markdown",
   "id": "6f3a666f",
   "metadata": {
    "papermill": {
     "duration": 0.013413,
     "end_time": "2025-03-19T20:06:48.226449",
     "exception": false,
     "start_time": "2025-03-19T20:06:48.213036",
     "status": "completed"
    },
    "tags": []
   },
   "source": [
    "### Бустинг"
   ]
  },
  {
   "cell_type": "code",
   "execution_count": 36,
   "id": "d8af59b1",
   "metadata": {
    "execution": {
     "iopub.execute_input": "2025-03-19T20:06:48.255089Z",
     "iopub.status.busy": "2025-03-19T20:06:48.254682Z",
     "iopub.status.idle": "2025-03-19T20:06:48.258713Z",
     "shell.execute_reply": "2025-03-19T20:06:48.257829Z"
    },
    "papermill": {
     "duration": 0.020442,
     "end_time": "2025-03-19T20:06:48.260476",
     "exception": false,
     "start_time": "2025-03-19T20:06:48.240034",
     "status": "completed"
    },
    "tags": []
   },
   "outputs": [],
   "source": [
    "from sklearn.ensemble import AdaBoostClassifier, GradientBoostingClassifier"
   ]
  },
  {
   "cell_type": "code",
   "execution_count": 37,
   "id": "7d920d0e",
   "metadata": {
    "execution": {
     "iopub.execute_input": "2025-03-19T20:06:48.290394Z",
     "iopub.status.busy": "2025-03-19T20:06:48.290026Z",
     "iopub.status.idle": "2025-03-19T20:06:48.294406Z",
     "shell.execute_reply": "2025-03-19T20:06:48.293360Z"
    },
    "papermill": {
     "duration": 0.021862,
     "end_time": "2025-03-19T20:06:48.296177",
     "exception": false,
     "start_time": "2025-03-19T20:06:48.274315",
     "status": "completed"
    },
    "tags": []
   },
   "outputs": [],
   "source": [
    "# Создание ансамбля с использованием AdaBoost\n",
    "adaboost_clf = AdaBoostClassifier(estimator=DTC_4, n_estimators=50, learning_rate=1.0, random_state=42)"
   ]
  },
  {
   "cell_type": "code",
   "execution_count": 38,
   "id": "7fe60d24",
   "metadata": {
    "execution": {
     "iopub.execute_input": "2025-03-19T20:06:48.325433Z",
     "iopub.status.busy": "2025-03-19T20:06:48.325093Z",
     "iopub.status.idle": "2025-03-19T20:06:48.487939Z",
     "shell.execute_reply": "2025-03-19T20:06:48.486894Z"
    },
    "papermill": {
     "duration": 0.179244,
     "end_time": "2025-03-19T20:06:48.489666",
     "exception": false,
     "start_time": "2025-03-19T20:06:48.310422",
     "status": "completed"
    },
    "tags": []
   },
   "outputs": [
    {
     "name": "stderr",
     "output_type": "stream",
     "text": [
      "/usr/local/lib/python3.10/dist-packages/sklearn/utils/validation.py:1143: DataConversionWarning: A column-vector y was passed when a 1d array was expected. Please change the shape of y to (n_samples, ), for example using ravel().\n",
      "  y = column_or_1d(y, warn=True)\n"
     ]
    }
   ],
   "source": [
    "# Обучение модели AdaBoost\n",
    "adaboost_clf.fit(train_X_mean, train_y_mean)\n",
    "\n",
    "# Предсказание на тестовой выборке AdaBoost\n",
    "y_pred_adaboost = adaboost_clf.predict(test_X_mean)"
   ]
  },
  {
   "cell_type": "code",
   "execution_count": 39,
   "id": "b9115c84",
   "metadata": {
    "execution": {
     "iopub.execute_input": "2025-03-19T20:06:48.519820Z",
     "iopub.status.busy": "2025-03-19T20:06:48.519412Z",
     "iopub.status.idle": "2025-03-19T20:06:48.540695Z",
     "shell.execute_reply": "2025-03-19T20:06:48.539388Z"
    },
    "papermill": {
     "duration": 0.0386,
     "end_time": "2025-03-19T20:06:48.542536",
     "exception": false,
     "start_time": "2025-03-19T20:06:48.503936",
     "status": "completed"
    },
    "tags": []
   },
   "outputs": [
    {
     "name": "stdout",
     "output_type": "stream",
     "text": [
      "precision: 0.71\n",
      " recall: 0.74\n"
     ]
    }
   ],
   "source": [
    "# метрики ансамбля 2\n",
    "precision = precision_score(test_y_mean, y_pred_adaboost)\n",
    "rec = recall_score(test_y_mean, y_pred_adaboost)\n",
    "print(f'precision: {precision:.2f}\\n recall: {rec:.2f}')"
   ]
  },
  {
   "cell_type": "code",
   "execution_count": 40,
   "id": "8b1c6c8c",
   "metadata": {
    "execution": {
     "iopub.execute_input": "2025-03-19T20:06:48.572222Z",
     "iopub.status.busy": "2025-03-19T20:06:48.571829Z",
     "iopub.status.idle": "2025-03-19T20:06:48.576109Z",
     "shell.execute_reply": "2025-03-19T20:06:48.575067Z"
    },
    "papermill": {
     "duration": 0.021575,
     "end_time": "2025-03-19T20:06:48.578097",
     "exception": false,
     "start_time": "2025-03-19T20:06:48.556522",
     "status": "completed"
    },
    "tags": []
   },
   "outputs": [],
   "source": [
    "# Создание ансамбля с использованием GradientBoosting\n",
    "gradientboosting_clf = GradientBoostingClassifier(n_estimators=100, learning_rate=0.1, max_depth=5, random_state=42)"
   ]
  },
  {
   "cell_type": "code",
   "execution_count": 41,
   "id": "cc942f61",
   "metadata": {
    "execution": {
     "iopub.execute_input": "2025-03-19T20:06:48.608041Z",
     "iopub.status.busy": "2025-03-19T20:06:48.607610Z",
     "iopub.status.idle": "2025-03-19T20:06:48.813967Z",
     "shell.execute_reply": "2025-03-19T20:06:48.812881Z"
    },
    "papermill": {
     "duration": 0.22348,
     "end_time": "2025-03-19T20:06:48.815741",
     "exception": false,
     "start_time": "2025-03-19T20:06:48.592261",
     "status": "completed"
    },
    "tags": []
   },
   "outputs": [
    {
     "name": "stderr",
     "output_type": "stream",
     "text": [
      "/usr/local/lib/python3.10/dist-packages/sklearn/ensemble/_gb.py:437: DataConversionWarning: A column-vector y was passed when a 1d array was expected. Please change the shape of y to (n_samples, ), for example using ravel().\n",
      "  y = column_or_1d(y, warn=True)\n"
     ]
    }
   ],
   "source": [
    "# Обучение модели GradientBoosting\n",
    "gradientboosting_clf.fit(train_X_mean, train_y_mean)\n",
    "\n",
    "# Предсказание на тестовой выборке GradientBoosting\n",
    "y_pred_gradientboosting = gradientboosting_clf.predict(test_X_mean)"
   ]
  },
  {
   "cell_type": "code",
   "execution_count": 42,
   "id": "261d3cd2",
   "metadata": {
    "execution": {
     "iopub.execute_input": "2025-03-19T20:06:48.845435Z",
     "iopub.status.busy": "2025-03-19T20:06:48.845057Z",
     "iopub.status.idle": "2025-03-19T20:06:48.864374Z",
     "shell.execute_reply": "2025-03-19T20:06:48.863284Z"
    },
    "papermill": {
     "duration": 0.036232,
     "end_time": "2025-03-19T20:06:48.866134",
     "exception": false,
     "start_time": "2025-03-19T20:06:48.829902",
     "status": "completed"
    },
    "tags": []
   },
   "outputs": [
    {
     "name": "stdout",
     "output_type": "stream",
     "text": [
      "precision: 0.83\n",
      " recall: 0.85\n"
     ]
    }
   ],
   "source": [
    "# метрики ансамбля 2\n",
    "precision = precision_score(test_y_mean, y_pred_gradientboosting)\n",
    "rec = recall_score(test_y_mean, y_pred_gradientboosting)\n",
    "print(f'precision: {precision:.2f}\\n recall: {rec:.2f}')\n",
    "# этот ансамбль показывает лучшие метрики"
   ]
  },
  {
   "cell_type": "markdown",
   "id": "bd6c3027",
   "metadata": {
    "papermill": {
     "duration": 0.01369,
     "end_time": "2025-03-19T20:06:48.893900",
     "exception": false,
     "start_time": "2025-03-19T20:06:48.880210",
     "status": "completed"
    },
    "tags": []
   },
   "source": [
    "## Пришло время подгружать инференс"
   ]
  },
  {
   "cell_type": "code",
   "execution_count": 43,
   "id": "dbfcc55a",
   "metadata": {
    "execution": {
     "iopub.execute_input": "2025-03-19T20:06:48.923042Z",
     "iopub.status.busy": "2025-03-19T20:06:48.922602Z",
     "iopub.status.idle": "2025-03-19T20:06:48.947852Z",
     "shell.execute_reply": "2025-03-19T20:06:48.946522Z"
    },
    "papermill": {
     "duration": 0.041944,
     "end_time": "2025-03-19T20:06:48.949609",
     "exception": false,
     "start_time": "2025-03-19T20:06:48.907665",
     "status": "completed"
    },
    "tags": []
   },
   "outputs": [
    {
     "name": "stderr",
     "output_type": "stream",
     "text": [
      "/usr/local/lib/python3.10/dist-packages/pandas/io/formats/format.py:1458: RuntimeWarning: invalid value encountered in greater\n",
      "  has_large_values = (abs_vals > 1e6).any()\n",
      "/usr/local/lib/python3.10/dist-packages/pandas/io/formats/format.py:1459: RuntimeWarning: invalid value encountered in less\n",
      "  has_small_values = ((abs_vals < 10 ** (-self.digits)) & (abs_vals > 0)).any()\n",
      "/usr/local/lib/python3.10/dist-packages/pandas/io/formats/format.py:1459: RuntimeWarning: invalid value encountered in greater\n",
      "  has_small_values = ((abs_vals < 10 ** (-self.digits)) & (abs_vals > 0)).any()\n"
     ]
    },
    {
     "data": {
      "text/html": [
       "<div>\n",
       "<style scoped>\n",
       "    .dataframe tbody tr th:only-of-type {\n",
       "        vertical-align: middle;\n",
       "    }\n",
       "\n",
       "    .dataframe tbody tr th {\n",
       "        vertical-align: top;\n",
       "    }\n",
       "\n",
       "    .dataframe thead th {\n",
       "        text-align: right;\n",
       "    }\n",
       "</style>\n",
       "<table border=\"1\" class=\"dataframe\">\n",
       "  <thead>\n",
       "    <tr style=\"text-align: right;\">\n",
       "      <th></th>\n",
       "      <th>PassengerId</th>\n",
       "      <th>Pclass</th>\n",
       "      <th>Name</th>\n",
       "      <th>Sex</th>\n",
       "      <th>Age</th>\n",
       "      <th>SibSp</th>\n",
       "      <th>Parch</th>\n",
       "      <th>Ticket</th>\n",
       "      <th>Fare</th>\n",
       "      <th>Cabin</th>\n",
       "      <th>Embarked</th>\n",
       "    </tr>\n",
       "  </thead>\n",
       "  <tbody>\n",
       "    <tr>\n",
       "      <th>0</th>\n",
       "      <td>892</td>\n",
       "      <td>3</td>\n",
       "      <td>Kelly, Mr. James</td>\n",
       "      <td>male</td>\n",
       "      <td>34.5</td>\n",
       "      <td>0</td>\n",
       "      <td>0</td>\n",
       "      <td>330911</td>\n",
       "      <td>7.8292</td>\n",
       "      <td>NaN</td>\n",
       "      <td>Q</td>\n",
       "    </tr>\n",
       "    <tr>\n",
       "      <th>1</th>\n",
       "      <td>893</td>\n",
       "      <td>3</td>\n",
       "      <td>Wilkes, Mrs. James (Ellen Needs)</td>\n",
       "      <td>female</td>\n",
       "      <td>47.0</td>\n",
       "      <td>1</td>\n",
       "      <td>0</td>\n",
       "      <td>363272</td>\n",
       "      <td>7.0000</td>\n",
       "      <td>NaN</td>\n",
       "      <td>S</td>\n",
       "    </tr>\n",
       "    <tr>\n",
       "      <th>2</th>\n",
       "      <td>894</td>\n",
       "      <td>2</td>\n",
       "      <td>Myles, Mr. Thomas Francis</td>\n",
       "      <td>male</td>\n",
       "      <td>62.0</td>\n",
       "      <td>0</td>\n",
       "      <td>0</td>\n",
       "      <td>240276</td>\n",
       "      <td>9.6875</td>\n",
       "      <td>NaN</td>\n",
       "      <td>Q</td>\n",
       "    </tr>\n",
       "    <tr>\n",
       "      <th>3</th>\n",
       "      <td>895</td>\n",
       "      <td>3</td>\n",
       "      <td>Wirz, Mr. Albert</td>\n",
       "      <td>male</td>\n",
       "      <td>27.0</td>\n",
       "      <td>0</td>\n",
       "      <td>0</td>\n",
       "      <td>315154</td>\n",
       "      <td>8.6625</td>\n",
       "      <td>NaN</td>\n",
       "      <td>S</td>\n",
       "    </tr>\n",
       "    <tr>\n",
       "      <th>4</th>\n",
       "      <td>896</td>\n",
       "      <td>3</td>\n",
       "      <td>Hirvonen, Mrs. Alexander (Helga E Lindqvist)</td>\n",
       "      <td>female</td>\n",
       "      <td>22.0</td>\n",
       "      <td>1</td>\n",
       "      <td>1</td>\n",
       "      <td>3101298</td>\n",
       "      <td>12.2875</td>\n",
       "      <td>NaN</td>\n",
       "      <td>S</td>\n",
       "    </tr>\n",
       "    <tr>\n",
       "      <th>...</th>\n",
       "      <td>...</td>\n",
       "      <td>...</td>\n",
       "      <td>...</td>\n",
       "      <td>...</td>\n",
       "      <td>...</td>\n",
       "      <td>...</td>\n",
       "      <td>...</td>\n",
       "      <td>...</td>\n",
       "      <td>...</td>\n",
       "      <td>...</td>\n",
       "      <td>...</td>\n",
       "    </tr>\n",
       "    <tr>\n",
       "      <th>413</th>\n",
       "      <td>1305</td>\n",
       "      <td>3</td>\n",
       "      <td>Spector, Mr. Woolf</td>\n",
       "      <td>male</td>\n",
       "      <td>NaN</td>\n",
       "      <td>0</td>\n",
       "      <td>0</td>\n",
       "      <td>A.5. 3236</td>\n",
       "      <td>8.0500</td>\n",
       "      <td>NaN</td>\n",
       "      <td>S</td>\n",
       "    </tr>\n",
       "    <tr>\n",
       "      <th>414</th>\n",
       "      <td>1306</td>\n",
       "      <td>1</td>\n",
       "      <td>Oliva y Ocana, Dona. Fermina</td>\n",
       "      <td>female</td>\n",
       "      <td>39.0</td>\n",
       "      <td>0</td>\n",
       "      <td>0</td>\n",
       "      <td>PC 17758</td>\n",
       "      <td>108.9000</td>\n",
       "      <td>C105</td>\n",
       "      <td>C</td>\n",
       "    </tr>\n",
       "    <tr>\n",
       "      <th>415</th>\n",
       "      <td>1307</td>\n",
       "      <td>3</td>\n",
       "      <td>Saether, Mr. Simon Sivertsen</td>\n",
       "      <td>male</td>\n",
       "      <td>38.5</td>\n",
       "      <td>0</td>\n",
       "      <td>0</td>\n",
       "      <td>SOTON/O.Q. 3101262</td>\n",
       "      <td>7.2500</td>\n",
       "      <td>NaN</td>\n",
       "      <td>S</td>\n",
       "    </tr>\n",
       "    <tr>\n",
       "      <th>416</th>\n",
       "      <td>1308</td>\n",
       "      <td>3</td>\n",
       "      <td>Ware, Mr. Frederick</td>\n",
       "      <td>male</td>\n",
       "      <td>NaN</td>\n",
       "      <td>0</td>\n",
       "      <td>0</td>\n",
       "      <td>359309</td>\n",
       "      <td>8.0500</td>\n",
       "      <td>NaN</td>\n",
       "      <td>S</td>\n",
       "    </tr>\n",
       "    <tr>\n",
       "      <th>417</th>\n",
       "      <td>1309</td>\n",
       "      <td>3</td>\n",
       "      <td>Peter, Master. Michael J</td>\n",
       "      <td>male</td>\n",
       "      <td>NaN</td>\n",
       "      <td>1</td>\n",
       "      <td>1</td>\n",
       "      <td>2668</td>\n",
       "      <td>22.3583</td>\n",
       "      <td>NaN</td>\n",
       "      <td>C</td>\n",
       "    </tr>\n",
       "  </tbody>\n",
       "</table>\n",
       "<p>418 rows × 11 columns</p>\n",
       "</div>"
      ],
      "text/plain": [
       "     PassengerId  Pclass                                          Name  \\\n",
       "0            892       3                              Kelly, Mr. James   \n",
       "1            893       3              Wilkes, Mrs. James (Ellen Needs)   \n",
       "2            894       2                     Myles, Mr. Thomas Francis   \n",
       "3            895       3                              Wirz, Mr. Albert   \n",
       "4            896       3  Hirvonen, Mrs. Alexander (Helga E Lindqvist)   \n",
       "..           ...     ...                                           ...   \n",
       "413         1305       3                            Spector, Mr. Woolf   \n",
       "414         1306       1                  Oliva y Ocana, Dona. Fermina   \n",
       "415         1307       3                  Saether, Mr. Simon Sivertsen   \n",
       "416         1308       3                           Ware, Mr. Frederick   \n",
       "417         1309       3                      Peter, Master. Michael J   \n",
       "\n",
       "        Sex   Age  SibSp  Parch              Ticket      Fare Cabin Embarked  \n",
       "0      male  34.5      0      0              330911    7.8292   NaN        Q  \n",
       "1    female  47.0      1      0              363272    7.0000   NaN        S  \n",
       "2      male  62.0      0      0              240276    9.6875   NaN        Q  \n",
       "3      male  27.0      0      0              315154    8.6625   NaN        S  \n",
       "4    female  22.0      1      1             3101298   12.2875   NaN        S  \n",
       "..      ...   ...    ...    ...                 ...       ...   ...      ...  \n",
       "413    male   NaN      0      0           A.5. 3236    8.0500   NaN        S  \n",
       "414  female  39.0      0      0            PC 17758  108.9000  C105        C  \n",
       "415    male  38.5      0      0  SOTON/O.Q. 3101262    7.2500   NaN        S  \n",
       "416    male   NaN      0      0              359309    8.0500   NaN        S  \n",
       "417    male   NaN      1      1                2668   22.3583   NaN        C  \n",
       "\n",
       "[418 rows x 11 columns]"
      ]
     },
     "execution_count": 43,
     "metadata": {},
     "output_type": "execute_result"
    }
   ],
   "source": [
    "test_data_orig = pd.read_csv('/kaggle/input/titanic/test.csv')\n",
    "test_data_orig"
   ]
  },
  {
   "cell_type": "markdown",
   "id": "0442dd4a",
   "metadata": {
    "papermill": {
     "duration": 0.01486,
     "end_time": "2025-03-19T20:06:48.979171",
     "exception": false,
     "start_time": "2025-03-19T20:06:48.964311",
     "status": "completed"
    },
    "tags": []
   },
   "source": [
    "#### Оставляем только те столбцы, что оставили в трейне"
   ]
  },
  {
   "cell_type": "code",
   "execution_count": 44,
   "id": "096deb4b",
   "metadata": {
    "execution": {
     "iopub.execute_input": "2025-03-19T20:06:49.009628Z",
     "iopub.status.busy": "2025-03-19T20:06:49.009285Z",
     "iopub.status.idle": "2025-03-19T20:06:49.025875Z",
     "shell.execute_reply": "2025-03-19T20:06:49.024527Z"
    },
    "papermill": {
     "duration": 0.034414,
     "end_time": "2025-03-19T20:06:49.028046",
     "exception": false,
     "start_time": "2025-03-19T20:06:48.993632",
     "status": "completed"
    },
    "tags": []
   },
   "outputs": [
    {
     "name": "stderr",
     "output_type": "stream",
     "text": [
      "/usr/local/lib/python3.10/dist-packages/pandas/io/formats/format.py:1458: RuntimeWarning: invalid value encountered in greater\n",
      "  has_large_values = (abs_vals > 1e6).any()\n",
      "/usr/local/lib/python3.10/dist-packages/pandas/io/formats/format.py:1459: RuntimeWarning: invalid value encountered in less\n",
      "  has_small_values = ((abs_vals < 10 ** (-self.digits)) & (abs_vals > 0)).any()\n",
      "/usr/local/lib/python3.10/dist-packages/pandas/io/formats/format.py:1459: RuntimeWarning: invalid value encountered in greater\n",
      "  has_small_values = ((abs_vals < 10 ** (-self.digits)) & (abs_vals > 0)).any()\n"
     ]
    },
    {
     "data": {
      "text/html": [
       "<div>\n",
       "<style scoped>\n",
       "    .dataframe tbody tr th:only-of-type {\n",
       "        vertical-align: middle;\n",
       "    }\n",
       "\n",
       "    .dataframe tbody tr th {\n",
       "        vertical-align: top;\n",
       "    }\n",
       "\n",
       "    .dataframe thead th {\n",
       "        text-align: right;\n",
       "    }\n",
       "</style>\n",
       "<table border=\"1\" class=\"dataframe\">\n",
       "  <thead>\n",
       "    <tr style=\"text-align: right;\">\n",
       "      <th></th>\n",
       "      <th>Pclass</th>\n",
       "      <th>Sex</th>\n",
       "      <th>Age</th>\n",
       "      <th>SibSp</th>\n",
       "      <th>Parch</th>\n",
       "      <th>Fare</th>\n",
       "      <th>Embarked</th>\n",
       "    </tr>\n",
       "  </thead>\n",
       "  <tbody>\n",
       "    <tr>\n",
       "      <th>0</th>\n",
       "      <td>3</td>\n",
       "      <td>male</td>\n",
       "      <td>34.5</td>\n",
       "      <td>0</td>\n",
       "      <td>0</td>\n",
       "      <td>7.8292</td>\n",
       "      <td>Q</td>\n",
       "    </tr>\n",
       "    <tr>\n",
       "      <th>1</th>\n",
       "      <td>3</td>\n",
       "      <td>female</td>\n",
       "      <td>47.0</td>\n",
       "      <td>1</td>\n",
       "      <td>0</td>\n",
       "      <td>7.0000</td>\n",
       "      <td>S</td>\n",
       "    </tr>\n",
       "    <tr>\n",
       "      <th>2</th>\n",
       "      <td>2</td>\n",
       "      <td>male</td>\n",
       "      <td>62.0</td>\n",
       "      <td>0</td>\n",
       "      <td>0</td>\n",
       "      <td>9.6875</td>\n",
       "      <td>Q</td>\n",
       "    </tr>\n",
       "    <tr>\n",
       "      <th>3</th>\n",
       "      <td>3</td>\n",
       "      <td>male</td>\n",
       "      <td>27.0</td>\n",
       "      <td>0</td>\n",
       "      <td>0</td>\n",
       "      <td>8.6625</td>\n",
       "      <td>S</td>\n",
       "    </tr>\n",
       "    <tr>\n",
       "      <th>4</th>\n",
       "      <td>3</td>\n",
       "      <td>female</td>\n",
       "      <td>22.0</td>\n",
       "      <td>1</td>\n",
       "      <td>1</td>\n",
       "      <td>12.2875</td>\n",
       "      <td>S</td>\n",
       "    </tr>\n",
       "    <tr>\n",
       "      <th>...</th>\n",
       "      <td>...</td>\n",
       "      <td>...</td>\n",
       "      <td>...</td>\n",
       "      <td>...</td>\n",
       "      <td>...</td>\n",
       "      <td>...</td>\n",
       "      <td>...</td>\n",
       "    </tr>\n",
       "    <tr>\n",
       "      <th>413</th>\n",
       "      <td>3</td>\n",
       "      <td>male</td>\n",
       "      <td>NaN</td>\n",
       "      <td>0</td>\n",
       "      <td>0</td>\n",
       "      <td>8.0500</td>\n",
       "      <td>S</td>\n",
       "    </tr>\n",
       "    <tr>\n",
       "      <th>414</th>\n",
       "      <td>1</td>\n",
       "      <td>female</td>\n",
       "      <td>39.0</td>\n",
       "      <td>0</td>\n",
       "      <td>0</td>\n",
       "      <td>108.9000</td>\n",
       "      <td>C</td>\n",
       "    </tr>\n",
       "    <tr>\n",
       "      <th>415</th>\n",
       "      <td>3</td>\n",
       "      <td>male</td>\n",
       "      <td>38.5</td>\n",
       "      <td>0</td>\n",
       "      <td>0</td>\n",
       "      <td>7.2500</td>\n",
       "      <td>S</td>\n",
       "    </tr>\n",
       "    <tr>\n",
       "      <th>416</th>\n",
       "      <td>3</td>\n",
       "      <td>male</td>\n",
       "      <td>NaN</td>\n",
       "      <td>0</td>\n",
       "      <td>0</td>\n",
       "      <td>8.0500</td>\n",
       "      <td>S</td>\n",
       "    </tr>\n",
       "    <tr>\n",
       "      <th>417</th>\n",
       "      <td>3</td>\n",
       "      <td>male</td>\n",
       "      <td>NaN</td>\n",
       "      <td>1</td>\n",
       "      <td>1</td>\n",
       "      <td>22.3583</td>\n",
       "      <td>C</td>\n",
       "    </tr>\n",
       "  </tbody>\n",
       "</table>\n",
       "<p>418 rows × 7 columns</p>\n",
       "</div>"
      ],
      "text/plain": [
       "     Pclass     Sex   Age  SibSp  Parch      Fare Embarked\n",
       "0         3    male  34.5      0      0    7.8292        Q\n",
       "1         3  female  47.0      1      0    7.0000        S\n",
       "2         2    male  62.0      0      0    9.6875        Q\n",
       "3         3    male  27.0      0      0    8.6625        S\n",
       "4         3  female  22.0      1      1   12.2875        S\n",
       "..      ...     ...   ...    ...    ...       ...      ...\n",
       "413       3    male   NaN      0      0    8.0500        S\n",
       "414       1  female  39.0      0      0  108.9000        C\n",
       "415       3    male  38.5      0      0    7.2500        S\n",
       "416       3    male   NaN      0      0    8.0500        S\n",
       "417       3    male   NaN      1      1   22.3583        C\n",
       "\n",
       "[418 rows x 7 columns]"
      ]
     },
     "execution_count": 44,
     "metadata": {},
     "output_type": "execute_result"
    }
   ],
   "source": [
    "test_data = test_data_orig.drop(['PassengerId', 'Name', 'Ticket', 'Cabin'], axis=1)\n",
    "test_data"
   ]
  },
  {
   "cell_type": "code",
   "execution_count": 45,
   "id": "dfc2ed23",
   "metadata": {
    "execution": {
     "iopub.execute_input": "2025-03-19T20:06:49.063394Z",
     "iopub.status.busy": "2025-03-19T20:06:49.063021Z",
     "iopub.status.idle": "2025-03-19T20:06:49.071577Z",
     "shell.execute_reply": "2025-03-19T20:06:49.070331Z"
    },
    "papermill": {
     "duration": 0.028668,
     "end_time": "2025-03-19T20:06:49.073831",
     "exception": false,
     "start_time": "2025-03-19T20:06:49.045163",
     "status": "completed"
    },
    "tags": []
   },
   "outputs": [
    {
     "data": {
      "text/plain": [
       "Pclass       0\n",
       "Sex          0\n",
       "Age         86\n",
       "SibSp        0\n",
       "Parch        0\n",
       "Fare         1\n",
       "Embarked     0\n",
       "dtype: int64"
      ]
     },
     "execution_count": 45,
     "metadata": {},
     "output_type": "execute_result"
    }
   ],
   "source": [
    "test_data.isna().sum()"
   ]
  },
  {
   "cell_type": "code",
   "execution_count": 46,
   "id": "e5d2a34a",
   "metadata": {
    "execution": {
     "iopub.execute_input": "2025-03-19T20:06:49.106900Z",
     "iopub.status.busy": "2025-03-19T20:06:49.106449Z",
     "iopub.status.idle": "2025-03-19T20:06:49.123845Z",
     "shell.execute_reply": "2025-03-19T20:06:49.122179Z"
    },
    "papermill": {
     "duration": 0.036316,
     "end_time": "2025-03-19T20:06:49.125992",
     "exception": false,
     "start_time": "2025-03-19T20:06:49.089676",
     "status": "completed"
    },
    "tags": []
   },
   "outputs": [
    {
     "data": {
      "text/html": [
       "<div>\n",
       "<style scoped>\n",
       "    .dataframe tbody tr th:only-of-type {\n",
       "        vertical-align: middle;\n",
       "    }\n",
       "\n",
       "    .dataframe tbody tr th {\n",
       "        vertical-align: top;\n",
       "    }\n",
       "\n",
       "    .dataframe thead th {\n",
       "        text-align: right;\n",
       "    }\n",
       "</style>\n",
       "<table border=\"1\" class=\"dataframe\">\n",
       "  <thead>\n",
       "    <tr style=\"text-align: right;\">\n",
       "      <th></th>\n",
       "      <th>Pclass</th>\n",
       "      <th>Sex</th>\n",
       "      <th>Age</th>\n",
       "      <th>SibSp</th>\n",
       "      <th>Parch</th>\n",
       "      <th>Fare</th>\n",
       "      <th>Embarked</th>\n",
       "    </tr>\n",
       "  </thead>\n",
       "  <tbody>\n",
       "    <tr>\n",
       "      <th>0</th>\n",
       "      <td>3</td>\n",
       "      <td>male</td>\n",
       "      <td>34.5</td>\n",
       "      <td>0</td>\n",
       "      <td>0</td>\n",
       "      <td>7.8292</td>\n",
       "      <td>Q</td>\n",
       "    </tr>\n",
       "    <tr>\n",
       "      <th>1</th>\n",
       "      <td>3</td>\n",
       "      <td>female</td>\n",
       "      <td>47.0</td>\n",
       "      <td>1</td>\n",
       "      <td>0</td>\n",
       "      <td>7.0000</td>\n",
       "      <td>S</td>\n",
       "    </tr>\n",
       "    <tr>\n",
       "      <th>2</th>\n",
       "      <td>2</td>\n",
       "      <td>male</td>\n",
       "      <td>62.0</td>\n",
       "      <td>0</td>\n",
       "      <td>0</td>\n",
       "      <td>9.6875</td>\n",
       "      <td>Q</td>\n",
       "    </tr>\n",
       "    <tr>\n",
       "      <th>3</th>\n",
       "      <td>3</td>\n",
       "      <td>male</td>\n",
       "      <td>27.0</td>\n",
       "      <td>0</td>\n",
       "      <td>0</td>\n",
       "      <td>8.6625</td>\n",
       "      <td>S</td>\n",
       "    </tr>\n",
       "    <tr>\n",
       "      <th>4</th>\n",
       "      <td>3</td>\n",
       "      <td>female</td>\n",
       "      <td>22.0</td>\n",
       "      <td>1</td>\n",
       "      <td>1</td>\n",
       "      <td>12.2875</td>\n",
       "      <td>S</td>\n",
       "    </tr>\n",
       "    <tr>\n",
       "      <th>...</th>\n",
       "      <td>...</td>\n",
       "      <td>...</td>\n",
       "      <td>...</td>\n",
       "      <td>...</td>\n",
       "      <td>...</td>\n",
       "      <td>...</td>\n",
       "      <td>...</td>\n",
       "    </tr>\n",
       "    <tr>\n",
       "      <th>413</th>\n",
       "      <td>3</td>\n",
       "      <td>male</td>\n",
       "      <td>21.0</td>\n",
       "      <td>0</td>\n",
       "      <td>0</td>\n",
       "      <td>8.0500</td>\n",
       "      <td>S</td>\n",
       "    </tr>\n",
       "    <tr>\n",
       "      <th>414</th>\n",
       "      <td>1</td>\n",
       "      <td>female</td>\n",
       "      <td>39.0</td>\n",
       "      <td>0</td>\n",
       "      <td>0</td>\n",
       "      <td>108.9000</td>\n",
       "      <td>C</td>\n",
       "    </tr>\n",
       "    <tr>\n",
       "      <th>415</th>\n",
       "      <td>3</td>\n",
       "      <td>male</td>\n",
       "      <td>38.5</td>\n",
       "      <td>0</td>\n",
       "      <td>0</td>\n",
       "      <td>7.2500</td>\n",
       "      <td>S</td>\n",
       "    </tr>\n",
       "    <tr>\n",
       "      <th>416</th>\n",
       "      <td>3</td>\n",
       "      <td>male</td>\n",
       "      <td>21.0</td>\n",
       "      <td>0</td>\n",
       "      <td>0</td>\n",
       "      <td>8.0500</td>\n",
       "      <td>S</td>\n",
       "    </tr>\n",
       "    <tr>\n",
       "      <th>417</th>\n",
       "      <td>3</td>\n",
       "      <td>male</td>\n",
       "      <td>21.0</td>\n",
       "      <td>1</td>\n",
       "      <td>1</td>\n",
       "      <td>22.3583</td>\n",
       "      <td>C</td>\n",
       "    </tr>\n",
       "  </tbody>\n",
       "</table>\n",
       "<p>418 rows × 7 columns</p>\n",
       "</div>"
      ],
      "text/plain": [
       "     Pclass     Sex   Age  SibSp  Parch      Fare Embarked\n",
       "0         3    male  34.5      0      0    7.8292        Q\n",
       "1         3  female  47.0      1      0    7.0000        S\n",
       "2         2    male  62.0      0      0    9.6875        Q\n",
       "3         3    male  27.0      0      0    8.6625        S\n",
       "4         3  female  22.0      1      1   12.2875        S\n",
       "..      ...     ...   ...    ...    ...       ...      ...\n",
       "413       3    male  21.0      0      0    8.0500        S\n",
       "414       1  female  39.0      0      0  108.9000        C\n",
       "415       3    male  38.5      0      0    7.2500        S\n",
       "416       3    male  21.0      0      0    8.0500        S\n",
       "417       3    male  21.0      1      1   22.3583        C\n",
       "\n",
       "[418 rows x 7 columns]"
      ]
     },
     "execution_count": 46,
     "metadata": {},
     "output_type": "execute_result"
    }
   ],
   "source": [
    "# Как было в трейне, заполним недостающие данные модой\n",
    "test_data['Age'] = test_data['Age'].fillna(test_data['Age'].mode()[0])\n",
    "test_data['Fare'] = test_data['Fare'].fillna(test_data['Fare'].mode()[0])\n",
    "test_data"
   ]
  },
  {
   "cell_type": "code",
   "execution_count": 47,
   "id": "3763685a",
   "metadata": {
    "execution": {
     "iopub.execute_input": "2025-03-19T20:06:49.158434Z",
     "iopub.status.busy": "2025-03-19T20:06:49.158048Z",
     "iopub.status.idle": "2025-03-19T20:06:49.174701Z",
     "shell.execute_reply": "2025-03-19T20:06:49.173632Z"
    },
    "papermill": {
     "duration": 0.034616,
     "end_time": "2025-03-19T20:06:49.176458",
     "exception": false,
     "start_time": "2025-03-19T20:06:49.141842",
     "status": "completed"
    },
    "tags": []
   },
   "outputs": [
    {
     "data": {
      "text/html": [
       "<div>\n",
       "<style scoped>\n",
       "    .dataframe tbody tr th:only-of-type {\n",
       "        vertical-align: middle;\n",
       "    }\n",
       "\n",
       "    .dataframe tbody tr th {\n",
       "        vertical-align: top;\n",
       "    }\n",
       "\n",
       "    .dataframe thead th {\n",
       "        text-align: right;\n",
       "    }\n",
       "</style>\n",
       "<table border=\"1\" class=\"dataframe\">\n",
       "  <thead>\n",
       "    <tr style=\"text-align: right;\">\n",
       "      <th></th>\n",
       "      <th>Pclass</th>\n",
       "      <th>Age</th>\n",
       "      <th>SibSp</th>\n",
       "      <th>Parch</th>\n",
       "      <th>Fare</th>\n",
       "      <th>Sex_female</th>\n",
       "      <th>Sex_male</th>\n",
       "      <th>Embarked_C</th>\n",
       "      <th>Embarked_Q</th>\n",
       "      <th>Embarked_S</th>\n",
       "    </tr>\n",
       "  </thead>\n",
       "  <tbody>\n",
       "    <tr>\n",
       "      <th>0</th>\n",
       "      <td>3</td>\n",
       "      <td>34</td>\n",
       "      <td>0</td>\n",
       "      <td>0</td>\n",
       "      <td>7</td>\n",
       "      <td>0</td>\n",
       "      <td>1</td>\n",
       "      <td>0</td>\n",
       "      <td>1</td>\n",
       "      <td>0</td>\n",
       "    </tr>\n",
       "    <tr>\n",
       "      <th>1</th>\n",
       "      <td>3</td>\n",
       "      <td>47</td>\n",
       "      <td>1</td>\n",
       "      <td>0</td>\n",
       "      <td>7</td>\n",
       "      <td>1</td>\n",
       "      <td>0</td>\n",
       "      <td>0</td>\n",
       "      <td>0</td>\n",
       "      <td>1</td>\n",
       "    </tr>\n",
       "    <tr>\n",
       "      <th>2</th>\n",
       "      <td>2</td>\n",
       "      <td>62</td>\n",
       "      <td>0</td>\n",
       "      <td>0</td>\n",
       "      <td>9</td>\n",
       "      <td>0</td>\n",
       "      <td>1</td>\n",
       "      <td>0</td>\n",
       "      <td>1</td>\n",
       "      <td>0</td>\n",
       "    </tr>\n",
       "    <tr>\n",
       "      <th>3</th>\n",
       "      <td>3</td>\n",
       "      <td>27</td>\n",
       "      <td>0</td>\n",
       "      <td>0</td>\n",
       "      <td>8</td>\n",
       "      <td>0</td>\n",
       "      <td>1</td>\n",
       "      <td>0</td>\n",
       "      <td>0</td>\n",
       "      <td>1</td>\n",
       "    </tr>\n",
       "    <tr>\n",
       "      <th>4</th>\n",
       "      <td>3</td>\n",
       "      <td>22</td>\n",
       "      <td>1</td>\n",
       "      <td>1</td>\n",
       "      <td>12</td>\n",
       "      <td>1</td>\n",
       "      <td>0</td>\n",
       "      <td>0</td>\n",
       "      <td>0</td>\n",
       "      <td>1</td>\n",
       "    </tr>\n",
       "    <tr>\n",
       "      <th>...</th>\n",
       "      <td>...</td>\n",
       "      <td>...</td>\n",
       "      <td>...</td>\n",
       "      <td>...</td>\n",
       "      <td>...</td>\n",
       "      <td>...</td>\n",
       "      <td>...</td>\n",
       "      <td>...</td>\n",
       "      <td>...</td>\n",
       "      <td>...</td>\n",
       "    </tr>\n",
       "    <tr>\n",
       "      <th>413</th>\n",
       "      <td>3</td>\n",
       "      <td>21</td>\n",
       "      <td>0</td>\n",
       "      <td>0</td>\n",
       "      <td>8</td>\n",
       "      <td>0</td>\n",
       "      <td>1</td>\n",
       "      <td>0</td>\n",
       "      <td>0</td>\n",
       "      <td>1</td>\n",
       "    </tr>\n",
       "    <tr>\n",
       "      <th>414</th>\n",
       "      <td>1</td>\n",
       "      <td>39</td>\n",
       "      <td>0</td>\n",
       "      <td>0</td>\n",
       "      <td>108</td>\n",
       "      <td>1</td>\n",
       "      <td>0</td>\n",
       "      <td>1</td>\n",
       "      <td>0</td>\n",
       "      <td>0</td>\n",
       "    </tr>\n",
       "    <tr>\n",
       "      <th>415</th>\n",
       "      <td>3</td>\n",
       "      <td>38</td>\n",
       "      <td>0</td>\n",
       "      <td>0</td>\n",
       "      <td>7</td>\n",
       "      <td>0</td>\n",
       "      <td>1</td>\n",
       "      <td>0</td>\n",
       "      <td>0</td>\n",
       "      <td>1</td>\n",
       "    </tr>\n",
       "    <tr>\n",
       "      <th>416</th>\n",
       "      <td>3</td>\n",
       "      <td>21</td>\n",
       "      <td>0</td>\n",
       "      <td>0</td>\n",
       "      <td>8</td>\n",
       "      <td>0</td>\n",
       "      <td>1</td>\n",
       "      <td>0</td>\n",
       "      <td>0</td>\n",
       "      <td>1</td>\n",
       "    </tr>\n",
       "    <tr>\n",
       "      <th>417</th>\n",
       "      <td>3</td>\n",
       "      <td>21</td>\n",
       "      <td>1</td>\n",
       "      <td>1</td>\n",
       "      <td>22</td>\n",
       "      <td>0</td>\n",
       "      <td>1</td>\n",
       "      <td>1</td>\n",
       "      <td>0</td>\n",
       "      <td>0</td>\n",
       "    </tr>\n",
       "  </tbody>\n",
       "</table>\n",
       "<p>418 rows × 10 columns</p>\n",
       "</div>"
      ],
      "text/plain": [
       "     Pclass  Age  SibSp  Parch  Fare  Sex_female  Sex_male  Embarked_C  \\\n",
       "0         3   34      0      0     7           0         1           0   \n",
       "1         3   47      1      0     7           1         0           0   \n",
       "2         2   62      0      0     9           0         1           0   \n",
       "3         3   27      0      0     8           0         1           0   \n",
       "4         3   22      1      1    12           1         0           0   \n",
       "..      ...  ...    ...    ...   ...         ...       ...         ...   \n",
       "413       3   21      0      0     8           0         1           0   \n",
       "414       1   39      0      0   108           1         0           1   \n",
       "415       3   38      0      0     7           0         1           0   \n",
       "416       3   21      0      0     8           0         1           0   \n",
       "417       3   21      1      1    22           0         1           1   \n",
       "\n",
       "     Embarked_Q  Embarked_S  \n",
       "0             1           0  \n",
       "1             0           1  \n",
       "2             1           0  \n",
       "3             0           1  \n",
       "4             0           1  \n",
       "..          ...         ...  \n",
       "413           0           1  \n",
       "414           0           0  \n",
       "415           0           1  \n",
       "416           0           1  \n",
       "417           0           0  \n",
       "\n",
       "[418 rows x 10 columns]"
      ]
     },
     "execution_count": 47,
     "metadata": {},
     "output_type": "execute_result"
    }
   ],
   "source": [
    "# дале снова превратим категориальные данные в числовые\n",
    "test_data = pd.get_dummies(test_data).astype(int)\n",
    "test_data"
   ]
  },
  {
   "cell_type": "code",
   "execution_count": 48,
   "id": "cc97a9c4",
   "metadata": {
    "execution": {
     "iopub.execute_input": "2025-03-19T20:06:49.208608Z",
     "iopub.status.busy": "2025-03-19T20:06:49.208267Z",
     "iopub.status.idle": "2025-03-19T20:06:49.216245Z",
     "shell.execute_reply": "2025-03-19T20:06:49.215152Z"
    },
    "papermill": {
     "duration": 0.026163,
     "end_time": "2025-03-19T20:06:49.218157",
     "exception": false,
     "start_time": "2025-03-19T20:06:49.191994",
     "status": "completed"
    },
    "tags": []
   },
   "outputs": [],
   "source": [
    "predicted = gradientboosting_clf.predict(test_data)\n"
   ]
  },
  {
   "cell_type": "code",
   "execution_count": 49,
   "id": "ff7db898",
   "metadata": {
    "execution": {
     "iopub.execute_input": "2025-03-19T20:06:49.251984Z",
     "iopub.status.busy": "2025-03-19T20:06:49.251547Z",
     "iopub.status.idle": "2025-03-19T20:06:49.266827Z",
     "shell.execute_reply": "2025-03-19T20:06:49.265699Z"
    },
    "papermill": {
     "duration": 0.034798,
     "end_time": "2025-03-19T20:06:49.268647",
     "exception": false,
     "start_time": "2025-03-19T20:06:49.233849",
     "status": "completed"
    },
    "tags": []
   },
   "outputs": [],
   "source": [
    "# теперь формируем csv для отправки решения\n",
    "sub = pd.DataFrame()\n",
    "sub['PassengerId'] = test_data_orig['PassengerId']\n",
    "sub['Survived'] = predicted\n",
    "sub.to_csv(\"/kaggle/working/submission.csv\", index=False)"
   ]
  },
  {
   "cell_type": "code",
   "execution_count": null,
   "id": "330b8319",
   "metadata": {
    "papermill": {
     "duration": 0.014912,
     "end_time": "2025-03-19T20:06:49.299031",
     "exception": false,
     "start_time": "2025-03-19T20:06:49.284119",
     "status": "completed"
    },
    "tags": []
   },
   "outputs": [],
   "source": []
  }
 ],
 "metadata": {
  "kaggle": {
   "accelerator": "none",
   "dataSources": [
    {
     "databundleVersionId": 26502,
     "sourceId": 3136,
     "sourceType": "competition"
    }
   ],
   "dockerImageVersionId": 30918,
   "isGpuEnabled": false,
   "isInternetEnabled": true,
   "language": "python",
   "sourceType": "notebook"
  },
  "kernelspec": {
   "display_name": "Python 3",
   "language": "python",
   "name": "python3"
  },
  "language_info": {
   "codemirror_mode": {
    "name": "ipython",
    "version": 3
   },
   "file_extension": ".py",
   "mimetype": "text/x-python",
   "name": "python",
   "nbconvert_exporter": "python",
   "pygments_lexer": "ipython3",
   "version": "3.10.12"
  },
  "papermill": {
   "default_parameters": {},
   "duration": 10.365039,
   "end_time": "2025-03-19T20:06:50.036511",
   "environment_variables": {},
   "exception": null,
   "input_path": "__notebook__.ipynb",
   "output_path": "__notebook__.ipynb",
   "parameters": {},
   "start_time": "2025-03-19T20:06:39.671472",
   "version": "2.6.0"
  }
 },
 "nbformat": 4,
 "nbformat_minor": 5
}
